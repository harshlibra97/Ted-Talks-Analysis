{
 "cells": [
  {
   "cell_type": "markdown",
   "metadata": {},
   "source": [
    "# Ted Talk Analysis"
   ]
  },
  {
   "cell_type": "markdown",
   "metadata": {},
   "source": [
    "TED is a  nonpartisan nonprofit devoted to spreading ideas, usually in the form of short, powerful talks (18 minutes or less). TED began in 1984 as a conference where Technology, Entertainment and Design converged, and today covers almost all topics — from science to business to global issues — in more than 100 languages.\n",
    "\n",
    "Given its recent popularity, there are numerous events being organised for TED talk and conferences and there are more than 3000 TED Talks currently available on internet. \n",
    "\n",
    "A detailed analysis of the talks would be a lot helpful to the current speakers, potential speakers and to all the viewers interested in listening to some quality talks. \n",
    "\n",
    "Our project aims at :\n",
    "- Providing detailed analysis on which TED Talks have larger number of views, which talks create maximum debate.\n",
    "- Insights on the trending topics by analysing which topic and which tags get the maximum views, comments and ratings.\n",
    "- Building a predictive model to analyse which video will get more views."
   ]
  },
  {
   "cell_type": "markdown",
   "metadata": {},
   "source": [
    "The dataset that has been used for performing exploratory and predictive data analysis has been web scrapped from the official TED Talks website, www.ted.com\n",
    "\n",
    "The analysis will be performed using two data sets. The main dataset contains all the details of the TED Talks along with its speakers. \n",
    "The other data set will contain the content of the speech in textual format. "
   ]
  },
  {
   "cell_type": "code",
   "execution_count": 196,
   "metadata": {},
   "outputs": [],
   "source": [
    "import pandas as pd\n",
    "import numpy as np\n",
    "import warnings\n",
    "import calendar\n",
    "import collections\n",
    "import matplotlib.pyplot as plt\n",
    "import seaborn as sb\n",
    "warnings.filterwarnings('ignore')"
   ]
  },
  {
   "cell_type": "code",
   "execution_count": 197,
   "metadata": {},
   "outputs": [
    {
     "data": {
      "text/html": [
       "<div>\n",
       "<style scoped>\n",
       "    .dataframe tbody tr th:only-of-type {\n",
       "        vertical-align: middle;\n",
       "    }\n",
       "\n",
       "    .dataframe tbody tr th {\n",
       "        vertical-align: top;\n",
       "    }\n",
       "\n",
       "    .dataframe thead th {\n",
       "        text-align: right;\n",
       "    }\n",
       "</style>\n",
       "<table border=\"1\" class=\"dataframe\">\n",
       "  <thead>\n",
       "    <tr style=\"text-align: right;\">\n",
       "      <th></th>\n",
       "      <th>comments</th>\n",
       "      <th>description</th>\n",
       "      <th>duration</th>\n",
       "      <th>event</th>\n",
       "      <th>film_date</th>\n",
       "      <th>languages</th>\n",
       "      <th>main_speaker</th>\n",
       "      <th>name</th>\n",
       "      <th>num_speaker</th>\n",
       "      <th>published_date</th>\n",
       "      <th>ratings</th>\n",
       "      <th>related_talks</th>\n",
       "      <th>speaker_occupation</th>\n",
       "      <th>tags</th>\n",
       "      <th>title</th>\n",
       "      <th>url</th>\n",
       "      <th>views</th>\n",
       "    </tr>\n",
       "  </thead>\n",
       "  <tbody>\n",
       "    <tr>\n",
       "      <th>0</th>\n",
       "      <td>4553</td>\n",
       "      <td>Sir Ken Robinson makes an entertaining and pro...</td>\n",
       "      <td>1164</td>\n",
       "      <td>TED2006</td>\n",
       "      <td>1140825600</td>\n",
       "      <td>60</td>\n",
       "      <td>Ken Robinson</td>\n",
       "      <td>Ken Robinson: Do schools kill creativity?</td>\n",
       "      <td>1</td>\n",
       "      <td>1151367060</td>\n",
       "      <td>[{'id': 7, 'name': 'Funny', 'count': 19645}, {...</td>\n",
       "      <td>[{'id': 865, 'hero': 'https://pe.tedcdn.com/im...</td>\n",
       "      <td>Author/educator</td>\n",
       "      <td>['children', 'creativity', 'culture', 'dance',...</td>\n",
       "      <td>Do schools kill creativity?</td>\n",
       "      <td>https://www.ted.com/talks/ken_robinson_says_sc...</td>\n",
       "      <td>47227110</td>\n",
       "    </tr>\n",
       "    <tr>\n",
       "      <th>1</th>\n",
       "      <td>265</td>\n",
       "      <td>With the same humor and humanity he exuded in ...</td>\n",
       "      <td>977</td>\n",
       "      <td>TED2006</td>\n",
       "      <td>1140825600</td>\n",
       "      <td>43</td>\n",
       "      <td>Al Gore</td>\n",
       "      <td>Al Gore: Averting the climate crisis</td>\n",
       "      <td>1</td>\n",
       "      <td>1151367060</td>\n",
       "      <td>[{'id': 7, 'name': 'Funny', 'count': 544}, {'i...</td>\n",
       "      <td>[{'id': 243, 'hero': 'https://pe.tedcdn.com/im...</td>\n",
       "      <td>Climate advocate</td>\n",
       "      <td>['alternative energy', 'cars', 'climate change...</td>\n",
       "      <td>Averting the climate crisis</td>\n",
       "      <td>https://www.ted.com/talks/al_gore_on_averting_...</td>\n",
       "      <td>3200520</td>\n",
       "    </tr>\n",
       "    <tr>\n",
       "      <th>2</th>\n",
       "      <td>124</td>\n",
       "      <td>New York Times columnist David Pogue takes aim...</td>\n",
       "      <td>1286</td>\n",
       "      <td>TED2006</td>\n",
       "      <td>1140739200</td>\n",
       "      <td>26</td>\n",
       "      <td>David Pogue</td>\n",
       "      <td>David Pogue: Simplicity sells</td>\n",
       "      <td>1</td>\n",
       "      <td>1151367060</td>\n",
       "      <td>[{'id': 7, 'name': 'Funny', 'count': 964}, {'i...</td>\n",
       "      <td>[{'id': 1725, 'hero': 'https://pe.tedcdn.com/i...</td>\n",
       "      <td>Technology columnist</td>\n",
       "      <td>['computers', 'entertainment', 'interface desi...</td>\n",
       "      <td>Simplicity sells</td>\n",
       "      <td>https://www.ted.com/talks/david_pogue_says_sim...</td>\n",
       "      <td>1636292</td>\n",
       "    </tr>\n",
       "    <tr>\n",
       "      <th>3</th>\n",
       "      <td>200</td>\n",
       "      <td>In an emotionally charged talk, MacArthur-winn...</td>\n",
       "      <td>1116</td>\n",
       "      <td>TED2006</td>\n",
       "      <td>1140912000</td>\n",
       "      <td>35</td>\n",
       "      <td>Majora Carter</td>\n",
       "      <td>Majora Carter: Greening the ghetto</td>\n",
       "      <td>1</td>\n",
       "      <td>1151367060</td>\n",
       "      <td>[{'id': 3, 'name': 'Courageous', 'count': 760}...</td>\n",
       "      <td>[{'id': 1041, 'hero': 'https://pe.tedcdn.com/i...</td>\n",
       "      <td>Activist for environmental justice</td>\n",
       "      <td>['MacArthur grant', 'activism', 'business', 'c...</td>\n",
       "      <td>Greening the ghetto</td>\n",
       "      <td>https://www.ted.com/talks/majora_carter_s_tale...</td>\n",
       "      <td>1697550</td>\n",
       "    </tr>\n",
       "    <tr>\n",
       "      <th>4</th>\n",
       "      <td>593</td>\n",
       "      <td>You've never seen data presented like this. Wi...</td>\n",
       "      <td>1190</td>\n",
       "      <td>TED2006</td>\n",
       "      <td>1140566400</td>\n",
       "      <td>48</td>\n",
       "      <td>Hans Rosling</td>\n",
       "      <td>Hans Rosling: The best stats you've ever seen</td>\n",
       "      <td>1</td>\n",
       "      <td>1151440680</td>\n",
       "      <td>[{'id': 9, 'name': 'Ingenious', 'count': 3202}...</td>\n",
       "      <td>[{'id': 2056, 'hero': 'https://pe.tedcdn.com/i...</td>\n",
       "      <td>Global health expert; data visionary</td>\n",
       "      <td>['Africa', 'Asia', 'Google', 'demo', 'economic...</td>\n",
       "      <td>The best stats you've ever seen</td>\n",
       "      <td>https://www.ted.com/talks/hans_rosling_shows_t...</td>\n",
       "      <td>12005869</td>\n",
       "    </tr>\n",
       "  </tbody>\n",
       "</table>\n",
       "</div>"
      ],
      "text/plain": [
       "   comments                                        description  duration  \\\n",
       "0      4553  Sir Ken Robinson makes an entertaining and pro...      1164   \n",
       "1       265  With the same humor and humanity he exuded in ...       977   \n",
       "2       124  New York Times columnist David Pogue takes aim...      1286   \n",
       "3       200  In an emotionally charged talk, MacArthur-winn...      1116   \n",
       "4       593  You've never seen data presented like this. Wi...      1190   \n",
       "\n",
       "     event   film_date  languages   main_speaker  \\\n",
       "0  TED2006  1140825600         60   Ken Robinson   \n",
       "1  TED2006  1140825600         43        Al Gore   \n",
       "2  TED2006  1140739200         26    David Pogue   \n",
       "3  TED2006  1140912000         35  Majora Carter   \n",
       "4  TED2006  1140566400         48   Hans Rosling   \n",
       "\n",
       "                                            name  num_speaker  published_date  \\\n",
       "0      Ken Robinson: Do schools kill creativity?            1      1151367060   \n",
       "1           Al Gore: Averting the climate crisis            1      1151367060   \n",
       "2                  David Pogue: Simplicity sells            1      1151367060   \n",
       "3             Majora Carter: Greening the ghetto            1      1151367060   \n",
       "4  Hans Rosling: The best stats you've ever seen            1      1151440680   \n",
       "\n",
       "                                             ratings  \\\n",
       "0  [{'id': 7, 'name': 'Funny', 'count': 19645}, {...   \n",
       "1  [{'id': 7, 'name': 'Funny', 'count': 544}, {'i...   \n",
       "2  [{'id': 7, 'name': 'Funny', 'count': 964}, {'i...   \n",
       "3  [{'id': 3, 'name': 'Courageous', 'count': 760}...   \n",
       "4  [{'id': 9, 'name': 'Ingenious', 'count': 3202}...   \n",
       "\n",
       "                                       related_talks  \\\n",
       "0  [{'id': 865, 'hero': 'https://pe.tedcdn.com/im...   \n",
       "1  [{'id': 243, 'hero': 'https://pe.tedcdn.com/im...   \n",
       "2  [{'id': 1725, 'hero': 'https://pe.tedcdn.com/i...   \n",
       "3  [{'id': 1041, 'hero': 'https://pe.tedcdn.com/i...   \n",
       "4  [{'id': 2056, 'hero': 'https://pe.tedcdn.com/i...   \n",
       "\n",
       "                     speaker_occupation  \\\n",
       "0                       Author/educator   \n",
       "1                      Climate advocate   \n",
       "2                  Technology columnist   \n",
       "3    Activist for environmental justice   \n",
       "4  Global health expert; data visionary   \n",
       "\n",
       "                                                tags  \\\n",
       "0  ['children', 'creativity', 'culture', 'dance',...   \n",
       "1  ['alternative energy', 'cars', 'climate change...   \n",
       "2  ['computers', 'entertainment', 'interface desi...   \n",
       "3  ['MacArthur grant', 'activism', 'business', 'c...   \n",
       "4  ['Africa', 'Asia', 'Google', 'demo', 'economic...   \n",
       "\n",
       "                             title  \\\n",
       "0      Do schools kill creativity?   \n",
       "1      Averting the climate crisis   \n",
       "2                 Simplicity sells   \n",
       "3              Greening the ghetto   \n",
       "4  The best stats you've ever seen   \n",
       "\n",
       "                                                 url     views  \n",
       "0  https://www.ted.com/talks/ken_robinson_says_sc...  47227110  \n",
       "1  https://www.ted.com/talks/al_gore_on_averting_...   3200520  \n",
       "2  https://www.ted.com/talks/david_pogue_says_sim...   1636292  \n",
       "3  https://www.ted.com/talks/majora_carter_s_tale...   1697550  \n",
       "4  https://www.ted.com/talks/hans_rosling_shows_t...  12005869  "
      ]
     },
     "execution_count": 197,
     "metadata": {},
     "output_type": "execute_result"
    }
   ],
   "source": [
    "df = pd.read_csv('ted_main.csv')\n",
    "df.head()"
   ]
  },
  {
   "cell_type": "code",
   "execution_count": 198,
   "metadata": {},
   "outputs": [
    {
     "data": {
      "text/html": [
       "<div>\n",
       "<style scoped>\n",
       "    .dataframe tbody tr th:only-of-type {\n",
       "        vertical-align: middle;\n",
       "    }\n",
       "\n",
       "    .dataframe tbody tr th {\n",
       "        vertical-align: top;\n",
       "    }\n",
       "\n",
       "    .dataframe thead th {\n",
       "        text-align: right;\n",
       "    }\n",
       "</style>\n",
       "<table border=\"1\" class=\"dataframe\">\n",
       "  <thead>\n",
       "    <tr style=\"text-align: right;\">\n",
       "      <th></th>\n",
       "      <th>transcript</th>\n",
       "      <th>url</th>\n",
       "    </tr>\n",
       "  </thead>\n",
       "  <tbody>\n",
       "    <tr>\n",
       "      <th>0</th>\n",
       "      <td>Good morning. How are you?(Laughter)It's been ...</td>\n",
       "      <td>https://www.ted.com/talks/ken_robinson_says_sc...</td>\n",
       "    </tr>\n",
       "    <tr>\n",
       "      <th>1</th>\n",
       "      <td>Thank you so much, Chris. And it's truly a gre...</td>\n",
       "      <td>https://www.ted.com/talks/al_gore_on_averting_...</td>\n",
       "    </tr>\n",
       "    <tr>\n",
       "      <th>2</th>\n",
       "      <td>(Music: \"The Sound of Silence,\" Simon &amp; Garfun...</td>\n",
       "      <td>https://www.ted.com/talks/david_pogue_says_sim...</td>\n",
       "    </tr>\n",
       "    <tr>\n",
       "      <th>3</th>\n",
       "      <td>If you're here today — and I'm very happy that...</td>\n",
       "      <td>https://www.ted.com/talks/majora_carter_s_tale...</td>\n",
       "    </tr>\n",
       "    <tr>\n",
       "      <th>4</th>\n",
       "      <td>About 10 years ago, I took on the task to teac...</td>\n",
       "      <td>https://www.ted.com/talks/hans_rosling_shows_t...</td>\n",
       "    </tr>\n",
       "  </tbody>\n",
       "</table>\n",
       "</div>"
      ],
      "text/plain": [
       "                                          transcript  \\\n",
       "0  Good morning. How are you?(Laughter)It's been ...   \n",
       "1  Thank you so much, Chris. And it's truly a gre...   \n",
       "2  (Music: \"The Sound of Silence,\" Simon & Garfun...   \n",
       "3  If you're here today — and I'm very happy that...   \n",
       "4  About 10 years ago, I took on the task to teac...   \n",
       "\n",
       "                                                 url  \n",
       "0  https://www.ted.com/talks/ken_robinson_says_sc...  \n",
       "1  https://www.ted.com/talks/al_gore_on_averting_...  \n",
       "2  https://www.ted.com/talks/david_pogue_says_sim...  \n",
       "3  https://www.ted.com/talks/majora_carter_s_tale...  \n",
       "4  https://www.ted.com/talks/hans_rosling_shows_t...  "
      ]
     },
     "execution_count": 198,
     "metadata": {},
     "output_type": "execute_result"
    }
   ],
   "source": [
    "df1 = pd.read_csv('C:/Users/sanja/Downloads/transcripts.csv')\n",
    "df1.head()"
   ]
  },
  {
   "cell_type": "markdown",
   "metadata": {},
   "source": [
    "As the data has been obtained directly from a website, that are high chances of values which can lead to errors or obstacles in perforing analysis. \n",
    "In order to remove such values we will, as an initial step, perform data cleaning on the dataset. "
   ]
  },
  {
   "cell_type": "markdown",
   "metadata": {},
   "source": [
    "# Data Cleaning"
   ]
  },
  {
   "cell_type": "markdown",
   "metadata": {},
   "source": [
    "Data cleaning is a process of removing or correcting inaccurate records from our dataset which can create hurdles in performing data analysis and can lead us to inaccurate predictions. "
   ]
  },
  {
   "cell_type": "markdown",
   "metadata": {},
   "source": [
    "Usually large datasets tend to have missing values. Missing values can give us errors or abnormal analysis and can also effect the other accurate records in the dataset. Hence, it is necessary to remove or modify the missing values. \n",
    "\n",
    "We will now check for missing values in both our datasets. "
   ]
  },
  {
   "cell_type": "code",
   "execution_count": 199,
   "metadata": {},
   "outputs": [
    {
     "data": {
      "text/plain": [
       "['comments',\n",
       " 'description',\n",
       " 'duration',\n",
       " 'event',\n",
       " 'film_date',\n",
       " 'languages',\n",
       " 'main_speaker',\n",
       " 'name',\n",
       " 'num_speaker',\n",
       " 'published_date',\n",
       " 'ratings',\n",
       " 'related_talks',\n",
       " 'speaker_occupation',\n",
       " 'tags',\n",
       " 'title',\n",
       " 'url',\n",
       " 'views']"
      ]
     },
     "execution_count": 199,
     "metadata": {},
     "output_type": "execute_result"
    }
   ],
   "source": [
    "list(df)\n"
   ]
  },
  {
   "cell_type": "markdown",
   "metadata": {},
   "source": [
    "As shown above, there are 6 values missing in the speaker occupation column of the main dataset. 6 missing values cannot make any disruptions in performing analysis and hence, without making any changes, we will ignore them. "
   ]
  },
  {
   "cell_type": "code",
   "execution_count": 200,
   "metadata": {},
   "outputs": [
    {
     "data": {
      "text/plain": [
       "transcript    0\n",
       "url           0\n",
       "dtype: int64"
      ]
     },
     "execution_count": 200,
     "metadata": {},
     "output_type": "execute_result"
    }
   ],
   "source": [
    "df1.isnull().sum() #checking null values for the transcript dataset"
   ]
  },
  {
   "cell_type": "markdown",
   "metadata": {},
   "source": [
    "As shown above, the transcript data set has no missing values. "
   ]
  },
  {
   "cell_type": "markdown",
   "metadata": {},
   "source": [
    "We will now work on the dates of our dataset. All the recorded dates in our dataset are in UNIX format. Hence, we need to convert them into redable format. "
   ]
  },
  {
   "cell_type": "code",
   "execution_count": 201,
   "metadata": {},
   "outputs": [
    {
     "data": {
      "text/html": [
       "<div>\n",
       "<style scoped>\n",
       "    .dataframe tbody tr th:only-of-type {\n",
       "        vertical-align: middle;\n",
       "    }\n",
       "\n",
       "    .dataframe tbody tr th {\n",
       "        vertical-align: top;\n",
       "    }\n",
       "\n",
       "    .dataframe thead th {\n",
       "        text-align: right;\n",
       "    }\n",
       "</style>\n",
       "<table border=\"1\" class=\"dataframe\">\n",
       "  <thead>\n",
       "    <tr style=\"text-align: right;\">\n",
       "      <th></th>\n",
       "      <th>comments</th>\n",
       "      <th>description</th>\n",
       "      <th>duration</th>\n",
       "      <th>event</th>\n",
       "      <th>film_date</th>\n",
       "      <th>languages</th>\n",
       "      <th>main_speaker</th>\n",
       "      <th>name</th>\n",
       "      <th>num_speaker</th>\n",
       "      <th>published_date</th>\n",
       "      <th>ratings</th>\n",
       "      <th>related_talks</th>\n",
       "      <th>speaker_occupation</th>\n",
       "      <th>tags</th>\n",
       "      <th>title</th>\n",
       "      <th>url</th>\n",
       "      <th>views</th>\n",
       "    </tr>\n",
       "  </thead>\n",
       "  <tbody>\n",
       "    <tr>\n",
       "      <th>0</th>\n",
       "      <td>4553</td>\n",
       "      <td>Sir Ken Robinson makes an entertaining and pro...</td>\n",
       "      <td>1164</td>\n",
       "      <td>TED2006</td>\n",
       "      <td>2006-02-25</td>\n",
       "      <td>60</td>\n",
       "      <td>Ken Robinson</td>\n",
       "      <td>Ken Robinson: Do schools kill creativity?</td>\n",
       "      <td>1</td>\n",
       "      <td>2006-06-27 00:11:00</td>\n",
       "      <td>[{'id': 7, 'name': 'Funny', 'count': 19645}, {...</td>\n",
       "      <td>[{'id': 865, 'hero': 'https://pe.tedcdn.com/im...</td>\n",
       "      <td>Author/educator</td>\n",
       "      <td>['children', 'creativity', 'culture', 'dance',...</td>\n",
       "      <td>Do schools kill creativity?</td>\n",
       "      <td>https://www.ted.com/talks/ken_robinson_says_sc...</td>\n",
       "      <td>47227110</td>\n",
       "    </tr>\n",
       "    <tr>\n",
       "      <th>1</th>\n",
       "      <td>265</td>\n",
       "      <td>With the same humor and humanity he exuded in ...</td>\n",
       "      <td>977</td>\n",
       "      <td>TED2006</td>\n",
       "      <td>2006-02-25</td>\n",
       "      <td>43</td>\n",
       "      <td>Al Gore</td>\n",
       "      <td>Al Gore: Averting the climate crisis</td>\n",
       "      <td>1</td>\n",
       "      <td>2006-06-27 00:11:00</td>\n",
       "      <td>[{'id': 7, 'name': 'Funny', 'count': 544}, {'i...</td>\n",
       "      <td>[{'id': 243, 'hero': 'https://pe.tedcdn.com/im...</td>\n",
       "      <td>Climate advocate</td>\n",
       "      <td>['alternative energy', 'cars', 'climate change...</td>\n",
       "      <td>Averting the climate crisis</td>\n",
       "      <td>https://www.ted.com/talks/al_gore_on_averting_...</td>\n",
       "      <td>3200520</td>\n",
       "    </tr>\n",
       "  </tbody>\n",
       "</table>\n",
       "</div>"
      ],
      "text/plain": [
       "   comments                                        description  duration  \\\n",
       "0      4553  Sir Ken Robinson makes an entertaining and pro...      1164   \n",
       "1       265  With the same humor and humanity he exuded in ...       977   \n",
       "\n",
       "     event  film_date  languages  main_speaker  \\\n",
       "0  TED2006 2006-02-25         60  Ken Robinson   \n",
       "1  TED2006 2006-02-25         43       Al Gore   \n",
       "\n",
       "                                        name  num_speaker      published_date  \\\n",
       "0  Ken Robinson: Do schools kill creativity?            1 2006-06-27 00:11:00   \n",
       "1       Al Gore: Averting the climate crisis            1 2006-06-27 00:11:00   \n",
       "\n",
       "                                             ratings  \\\n",
       "0  [{'id': 7, 'name': 'Funny', 'count': 19645}, {...   \n",
       "1  [{'id': 7, 'name': 'Funny', 'count': 544}, {'i...   \n",
       "\n",
       "                                       related_talks speaker_occupation  \\\n",
       "0  [{'id': 865, 'hero': 'https://pe.tedcdn.com/im...    Author/educator   \n",
       "1  [{'id': 243, 'hero': 'https://pe.tedcdn.com/im...   Climate advocate   \n",
       "\n",
       "                                                tags  \\\n",
       "0  ['children', 'creativity', 'culture', 'dance',...   \n",
       "1  ['alternative energy', 'cars', 'climate change...   \n",
       "\n",
       "                         title  \\\n",
       "0  Do schools kill creativity?   \n",
       "1  Averting the climate crisis   \n",
       "\n",
       "                                                 url     views  \n",
       "0  https://www.ted.com/talks/ken_robinson_says_sc...  47227110  \n",
       "1  https://www.ted.com/talks/al_gore_on_averting_...   3200520  "
      ]
     },
     "execution_count": 201,
     "metadata": {},
     "output_type": "execute_result"
    }
   ],
   "source": [
    "df['film_date'] = pd.to_datetime(df['film_date'], unit = 's')\n",
    "df['published_date'] = pd.to_datetime(df['published_date'], unit = 's')\n",
    "df.head(2)"
   ]
  },
  {
   "cell_type": "markdown",
   "metadata": {},
   "source": [
    "Also, the durations recorded in our data set for various talks are in seconds format. To elucidate our analysis, we will convert them to minutes. "
   ]
  },
  {
   "cell_type": "code",
   "execution_count": 202,
   "metadata": {},
   "outputs": [
    {
     "data": {
      "text/html": [
       "<div>\n",
       "<style scoped>\n",
       "    .dataframe tbody tr th:only-of-type {\n",
       "        vertical-align: middle;\n",
       "    }\n",
       "\n",
       "    .dataframe tbody tr th {\n",
       "        vertical-align: top;\n",
       "    }\n",
       "\n",
       "    .dataframe thead th {\n",
       "        text-align: right;\n",
       "    }\n",
       "</style>\n",
       "<table border=\"1\" class=\"dataframe\">\n",
       "  <thead>\n",
       "    <tr style=\"text-align: right;\">\n",
       "      <th></th>\n",
       "      <th>comments</th>\n",
       "      <th>description</th>\n",
       "      <th>duration</th>\n",
       "      <th>event</th>\n",
       "      <th>film_date</th>\n",
       "      <th>languages</th>\n",
       "      <th>main_speaker</th>\n",
       "      <th>name</th>\n",
       "      <th>num_speaker</th>\n",
       "      <th>published_date</th>\n",
       "      <th>ratings</th>\n",
       "      <th>related_talks</th>\n",
       "      <th>speaker_occupation</th>\n",
       "      <th>tags</th>\n",
       "      <th>title</th>\n",
       "      <th>url</th>\n",
       "      <th>views</th>\n",
       "    </tr>\n",
       "  </thead>\n",
       "  <tbody>\n",
       "    <tr>\n",
       "      <th>0</th>\n",
       "      <td>4553</td>\n",
       "      <td>Sir Ken Robinson makes an entertaining and pro...</td>\n",
       "      <td>19.400000</td>\n",
       "      <td>TED2006</td>\n",
       "      <td>2006-02-25</td>\n",
       "      <td>60</td>\n",
       "      <td>Ken Robinson</td>\n",
       "      <td>Ken Robinson: Do schools kill creativity?</td>\n",
       "      <td>1</td>\n",
       "      <td>2006-06-27 00:11:00</td>\n",
       "      <td>[{'id': 7, 'name': 'Funny', 'count': 19645}, {...</td>\n",
       "      <td>[{'id': 865, 'hero': 'https://pe.tedcdn.com/im...</td>\n",
       "      <td>Author/educator</td>\n",
       "      <td>['children', 'creativity', 'culture', 'dance',...</td>\n",
       "      <td>Do schools kill creativity?</td>\n",
       "      <td>https://www.ted.com/talks/ken_robinson_says_sc...</td>\n",
       "      <td>47227110</td>\n",
       "    </tr>\n",
       "    <tr>\n",
       "      <th>1</th>\n",
       "      <td>265</td>\n",
       "      <td>With the same humor and humanity he exuded in ...</td>\n",
       "      <td>16.283333</td>\n",
       "      <td>TED2006</td>\n",
       "      <td>2006-02-25</td>\n",
       "      <td>43</td>\n",
       "      <td>Al Gore</td>\n",
       "      <td>Al Gore: Averting the climate crisis</td>\n",
       "      <td>1</td>\n",
       "      <td>2006-06-27 00:11:00</td>\n",
       "      <td>[{'id': 7, 'name': 'Funny', 'count': 544}, {'i...</td>\n",
       "      <td>[{'id': 243, 'hero': 'https://pe.tedcdn.com/im...</td>\n",
       "      <td>Climate advocate</td>\n",
       "      <td>['alternative energy', 'cars', 'climate change...</td>\n",
       "      <td>Averting the climate crisis</td>\n",
       "      <td>https://www.ted.com/talks/al_gore_on_averting_...</td>\n",
       "      <td>3200520</td>\n",
       "    </tr>\n",
       "    <tr>\n",
       "      <th>2</th>\n",
       "      <td>124</td>\n",
       "      <td>New York Times columnist David Pogue takes aim...</td>\n",
       "      <td>21.433333</td>\n",
       "      <td>TED2006</td>\n",
       "      <td>2006-02-24</td>\n",
       "      <td>26</td>\n",
       "      <td>David Pogue</td>\n",
       "      <td>David Pogue: Simplicity sells</td>\n",
       "      <td>1</td>\n",
       "      <td>2006-06-27 00:11:00</td>\n",
       "      <td>[{'id': 7, 'name': 'Funny', 'count': 964}, {'i...</td>\n",
       "      <td>[{'id': 1725, 'hero': 'https://pe.tedcdn.com/i...</td>\n",
       "      <td>Technology columnist</td>\n",
       "      <td>['computers', 'entertainment', 'interface desi...</td>\n",
       "      <td>Simplicity sells</td>\n",
       "      <td>https://www.ted.com/talks/david_pogue_says_sim...</td>\n",
       "      <td>1636292</td>\n",
       "    </tr>\n",
       "    <tr>\n",
       "      <th>3</th>\n",
       "      <td>200</td>\n",
       "      <td>In an emotionally charged talk, MacArthur-winn...</td>\n",
       "      <td>18.600000</td>\n",
       "      <td>TED2006</td>\n",
       "      <td>2006-02-26</td>\n",
       "      <td>35</td>\n",
       "      <td>Majora Carter</td>\n",
       "      <td>Majora Carter: Greening the ghetto</td>\n",
       "      <td>1</td>\n",
       "      <td>2006-06-27 00:11:00</td>\n",
       "      <td>[{'id': 3, 'name': 'Courageous', 'count': 760}...</td>\n",
       "      <td>[{'id': 1041, 'hero': 'https://pe.tedcdn.com/i...</td>\n",
       "      <td>Activist for environmental justice</td>\n",
       "      <td>['MacArthur grant', 'activism', 'business', 'c...</td>\n",
       "      <td>Greening the ghetto</td>\n",
       "      <td>https://www.ted.com/talks/majora_carter_s_tale...</td>\n",
       "      <td>1697550</td>\n",
       "    </tr>\n",
       "    <tr>\n",
       "      <th>4</th>\n",
       "      <td>593</td>\n",
       "      <td>You've never seen data presented like this. Wi...</td>\n",
       "      <td>19.833333</td>\n",
       "      <td>TED2006</td>\n",
       "      <td>2006-02-22</td>\n",
       "      <td>48</td>\n",
       "      <td>Hans Rosling</td>\n",
       "      <td>Hans Rosling: The best stats you've ever seen</td>\n",
       "      <td>1</td>\n",
       "      <td>2006-06-27 20:38:00</td>\n",
       "      <td>[{'id': 9, 'name': 'Ingenious', 'count': 3202}...</td>\n",
       "      <td>[{'id': 2056, 'hero': 'https://pe.tedcdn.com/i...</td>\n",
       "      <td>Global health expert; data visionary</td>\n",
       "      <td>['Africa', 'Asia', 'Google', 'demo', 'economic...</td>\n",
       "      <td>The best stats you've ever seen</td>\n",
       "      <td>https://www.ted.com/talks/hans_rosling_shows_t...</td>\n",
       "      <td>12005869</td>\n",
       "    </tr>\n",
       "  </tbody>\n",
       "</table>\n",
       "</div>"
      ],
      "text/plain": [
       "   comments                                        description   duration  \\\n",
       "0      4553  Sir Ken Robinson makes an entertaining and pro...  19.400000   \n",
       "1       265  With the same humor and humanity he exuded in ...  16.283333   \n",
       "2       124  New York Times columnist David Pogue takes aim...  21.433333   \n",
       "3       200  In an emotionally charged talk, MacArthur-winn...  18.600000   \n",
       "4       593  You've never seen data presented like this. Wi...  19.833333   \n",
       "\n",
       "     event  film_date  languages   main_speaker  \\\n",
       "0  TED2006 2006-02-25         60   Ken Robinson   \n",
       "1  TED2006 2006-02-25         43        Al Gore   \n",
       "2  TED2006 2006-02-24         26    David Pogue   \n",
       "3  TED2006 2006-02-26         35  Majora Carter   \n",
       "4  TED2006 2006-02-22         48   Hans Rosling   \n",
       "\n",
       "                                            name  num_speaker  \\\n",
       "0      Ken Robinson: Do schools kill creativity?            1   \n",
       "1           Al Gore: Averting the climate crisis            1   \n",
       "2                  David Pogue: Simplicity sells            1   \n",
       "3             Majora Carter: Greening the ghetto            1   \n",
       "4  Hans Rosling: The best stats you've ever seen            1   \n",
       "\n",
       "       published_date                                            ratings  \\\n",
       "0 2006-06-27 00:11:00  [{'id': 7, 'name': 'Funny', 'count': 19645}, {...   \n",
       "1 2006-06-27 00:11:00  [{'id': 7, 'name': 'Funny', 'count': 544}, {'i...   \n",
       "2 2006-06-27 00:11:00  [{'id': 7, 'name': 'Funny', 'count': 964}, {'i...   \n",
       "3 2006-06-27 00:11:00  [{'id': 3, 'name': 'Courageous', 'count': 760}...   \n",
       "4 2006-06-27 20:38:00  [{'id': 9, 'name': 'Ingenious', 'count': 3202}...   \n",
       "\n",
       "                                       related_talks  \\\n",
       "0  [{'id': 865, 'hero': 'https://pe.tedcdn.com/im...   \n",
       "1  [{'id': 243, 'hero': 'https://pe.tedcdn.com/im...   \n",
       "2  [{'id': 1725, 'hero': 'https://pe.tedcdn.com/i...   \n",
       "3  [{'id': 1041, 'hero': 'https://pe.tedcdn.com/i...   \n",
       "4  [{'id': 2056, 'hero': 'https://pe.tedcdn.com/i...   \n",
       "\n",
       "                     speaker_occupation  \\\n",
       "0                       Author/educator   \n",
       "1                      Climate advocate   \n",
       "2                  Technology columnist   \n",
       "3    Activist for environmental justice   \n",
       "4  Global health expert; data visionary   \n",
       "\n",
       "                                                tags  \\\n",
       "0  ['children', 'creativity', 'culture', 'dance',...   \n",
       "1  ['alternative energy', 'cars', 'climate change...   \n",
       "2  ['computers', 'entertainment', 'interface desi...   \n",
       "3  ['MacArthur grant', 'activism', 'business', 'c...   \n",
       "4  ['Africa', 'Asia', 'Google', 'demo', 'economic...   \n",
       "\n",
       "                             title  \\\n",
       "0      Do schools kill creativity?   \n",
       "1      Averting the climate crisis   \n",
       "2                 Simplicity sells   \n",
       "3              Greening the ghetto   \n",
       "4  The best stats you've ever seen   \n",
       "\n",
       "                                                 url     views  \n",
       "0  https://www.ted.com/talks/ken_robinson_says_sc...  47227110  \n",
       "1  https://www.ted.com/talks/al_gore_on_averting_...   3200520  \n",
       "2  https://www.ted.com/talks/david_pogue_says_sim...   1636292  \n",
       "3  https://www.ted.com/talks/majora_carter_s_tale...   1697550  \n",
       "4  https://www.ted.com/talks/hans_rosling_shows_t...  12005869  "
      ]
     },
     "execution_count": 202,
     "metadata": {},
     "output_type": "execute_result"
    }
   ],
   "source": [
    "df['duration']=df['duration']/60\n",
    "df.head()"
   ]
  },
  {
   "cell_type": "markdown",
   "metadata": {},
   "source": [
    "The data set we now have will work perfectly for our analysis. \n",
    "Before we make predictions using our model, it is necessary for us to explore the data set and learn about minute details of our records. \n",
    "Hence, we will further perform exploratory data analysis on our data set. "
   ]
  },
  {
   "cell_type": "markdown",
   "metadata": {},
   "source": [
    "# Exploratory Data Analysis"
   ]
  },
  {
   "cell_type": "markdown",
   "metadata": {},
   "source": [
    "## Analysing talks by Month and Year and Day\n",
    "Ted Talks tend to occur all throughout the year. Is there some popular month as far as TED is concerned? In other words, how are the talks distributed throughout the months since its inception? Here we will find out answers to these questions and find ou the popular months and day of the week when ted conferences occur the most. Also we will see here the years when ted talks have occurred the most since the time they have begun.\n",
    "\n",
    "### 1. Analysis by Month\n",
    "We will analyze which months are most popular for the ted conferences by using film date data.\n",
    "We have extraced month from the date and desgined a function to keep the counter of each month and map it against its key in dictionary."
   ]
  },
  {
   "cell_type": "code",
   "execution_count": 203,
   "metadata": {},
   "outputs": [
    {
     "name": "stdout",
     "output_type": "stream",
     "text": [
      "{'Feb': 601, 'Jul': 253, 'Nov': 232, 'Mar': 397, 'Dec': 123, 'Jun': 270, 'Sep': 107, 'Jan': 33, 'Oct': 208, 'May': 123, 'Apr': 173, 'Aug': 30}\n"
     ]
    }
   ],
   "source": [
    "\n",
    "vidoesPerMonth = {}\n",
    "\n",
    "def videosPerMonthCounter(x) :\n",
    "  m = calendar.month_name[x.month][0:3]\n",
    "  val = vidoesPerMonth.get(m, 0)\n",
    "  val += 1\n",
    "  vidoesPerMonth[m] = val\n",
    "\n",
    "df['film_date'].apply(\n",
    "  videosPerMonthCounter\n",
    ")\n",
    "\n",
    "print (vidoesPerMonth)"
   ]
  },
  {
   "cell_type": "markdown",
   "metadata": {},
   "source": [
    "After taking the count of talks in each month, we have tried visualizing the same though bar plot"
   ]
  },
  {
   "cell_type": "code",
   "execution_count": 204,
   "metadata": {},
   "outputs": [
    {
     "data": {
      "image/png": "[encoded data removed]",
      "text/plain": [
       "<Figure size 1296x360 with 1 Axes>"
      ]
     },
     "metadata": {},
     "output_type": "display_data"
    }
   ],
   "source": [
    "#vidoesPerMonth\n",
    "#D = {u'Label1':26, u'Label2': 17, u'Label3':30}\n",
    "valList = [0,0,0,0,0,0,0,0,0,0,0,0]\n",
    "keyList = ['Jan','Feb','Mar','Apr','May', 'Jun', 'Jul', 'Aug', 'Sep', 'Oct', 'Nov', 'Dec']\n",
    "for k in sorted(vidoesPerMonth.keys()):\n",
    "    valList[keyList.index(k)] = vidoesPerMonth[k]\n",
    "\n",
    "fig= plt.figure(figsize=(18,5))\n",
    "plt.bar(range(len(vidoesPerMonth)), valList, align='center',color=['0.8','0.6','0.4','0.5','0.3','0.2'])\n",
    "plt.xticks(range(len(vidoesPerMonth)), keyList)\n",
    "# # for python 2.x:\n",
    "# plt.bar(range(len(D)), D.values(), align='center')  # python 2.x\n",
    "# plt.xticks(range(len(D)), D.keys())  # in python 2.x\n",
    "\n",
    "plt.show()"
   ]
  },
  {
   "cell_type": "markdown",
   "metadata": {},
   "source": [
    "February is clearly the most popular month for TED Conferences whereas August and January are the least popular. February's popularity is largely due to the fact that the official TED Conferences are held in February"
   ]
  },
  {
   "cell_type": "markdown",
   "metadata": {},
   "source": [
    "### 2. Analysis by Year\n",
    "We will analyze which years have the maximum number of talks from our dataset.\n",
    "We have extraced year from the date and desgined a function to keep the counter of each year and map it against its key in dictionary."
   ]
  },
  {
   "cell_type": "code",
   "execution_count": 205,
   "metadata": {},
   "outputs": [
    {
     "name": "stdout",
     "output_type": "stream",
     "text": [
      "{2006: 50, 2004: 33, 2005: 66, 2003: 33, 2007: 114, 2002: 27, 2001: 5, 2008: 84, 1984: 1, 1990: 1, 1998: 6, 2009: 232, 1991: 1, 2010: 267, 1983: 1, 1972: 1, 2011: 270, 2012: 267, 1994: 1, 2013: 270, 2014: 237, 2015: 239, 2016: 246, 2017: 98}\n"
     ]
    }
   ],
   "source": [
    "vidoesPerYear = {}\n",
    "\n",
    "def videosPerYearCounter(x) :\n",
    "  y = x.year\n",
    "  val = vidoesPerYear.get(y, 0)\n",
    "  val += 1\n",
    "  vidoesPerYear[y] = val\n",
    "\n",
    "df['film_date'].apply(\n",
    "  videosPerYearCounter\n",
    ")\n",
    "\n",
    "print (vidoesPerYear)"
   ]
  },
  {
   "cell_type": "markdown",
   "metadata": {},
   "source": [
    "After taking the count of talks in each year, we have tried visualizing the same though point plot.\n",
    "Hear we have use seaborn library which is referenced using sb"
   ]
  },
  {
   "cell_type": "code",
   "execution_count": 206,
   "metadata": {
    "scrolled": true
   },
   "outputs": [
    {
     "name": "stdout",
     "output_type": "stream",
     "text": [
      "[1972, 1983, 1984, 1990, 1991, 1994, 1998, 2001, 2002, 2003, 2004, 2005, 2006, 2007, 2008, 2009, 2010, 2011, 2012, 2013, 2014, 2015, 2016, 2017]\n"
     ]
    },
    {
     "data": {
      "image/png": "[encoded data removed]",
      "text/plain": [
       "<Figure size 1296x360 with 1 Axes>"
      ]
     },
     "metadata": {},
     "output_type": "display_data"
    }
   ],
   "source": [
    "vl = []\n",
    "kl = []\n",
    "for k in sorted(vidoesPerYear.keys()):\n",
    "    vl.append(vidoesPerYear[k])\n",
    "    kl.append(k)\n",
    "print (kl)\n",
    "fig= plt.figure(figsize=(18,5))\n",
    "sb.pointplot(kl,vl)\n",
    "plt.show()"
   ]
  },
  {
   "cell_type": "markdown",
   "metadata": {},
   "source": [
    "Some analysis made from above plot is:\n",
    "•\tAs expected, the number of TED Talks have gradually increased over the years since its inception in 1984.\n",
    "•\tThere was a sharp increase in the number if talks in 2009.\n",
    "•\tThe number of talks have been pretty much constant since 2009."
   ]
  },
  {
   "cell_type": "markdown",
   "metadata": {},
   "source": [
    "### 3. Analysis by Day of the week\n",
    "We will analyze which day of the week is most popular and has the maximum number of talks from our dataset.\n",
    "We have used day name function to return day of the week by passing date."
   ]
  },
  {
   "cell_type": "code",
   "execution_count": 207,
   "metadata": {},
   "outputs": [
    {
     "name": "stdout",
     "output_type": "stream",
     "text": [
      "{'Sat': 336, 'Fri': 386, 'Sun': 110, 'Wed': 534, 'Thu': 551, 'Mon': 306, 'Tue': 327}\n"
     ]
    }
   ],
   "source": [
    "vidoesPerDayOfWeek = {}\n",
    "\n",
    "def videosPerDayOfWeekCounter(x) :\n",
    "    val = vidoesPerDayOfWeek.get(x[:3], 0)\n",
    "    val += 1\n",
    "    vidoesPerDayOfWeek[x[:3]] = val\n",
    "\n",
    "df['film_date'].dt.day_name().apply(\n",
    "    videosPerDayOfWeekCounter\n",
    ")\n",
    "\n",
    "print(vidoesPerDayOfWeek)\n"
   ]
  },
  {
   "cell_type": "markdown",
   "metadata": {},
   "source": [
    "After taking the count of talks in each particular day of the week, we have tried visualizing the same though bar plot"
   ]
  },
  {
   "cell_type": "code",
   "execution_count": 208,
   "metadata": {
    "scrolled": true
   },
   "outputs": [
    {
     "data": {
      "image/png": "[encoded data removed]",
      "text/plain": [
       "<Figure size 432x288 with 1 Axes>"
      ]
     },
     "metadata": {},
     "output_type": "display_data"
    }
   ],
   "source": [
    "valList = [0,0,0,0,0,0,0]\n",
    "keyList = ['Sun','Mon','Tue','Wed','Thu', 'Fri', 'Sat']\n",
    "for k in vidoesPerDayOfWeek.keys():\n",
    "    valList[keyList.index(k)] = vidoesPerDayOfWeek[k]\n",
    "\n",
    "    \n",
    "plt.bar(range(len(vidoesPerDayOfWeek)), valList, align='center',color=['0.8','0.6','0.4','0.3','0.2'])\n",
    "plt.xticks(range(len(vidoesPerDayOfWeek)), keyList)\n",
    "plt.show()"
   ]
  },
  {
   "cell_type": "markdown",
   "metadata": {},
   "source": [
    "The distribution of days is almost a bell curve with Wednesday and Thursday being the most popular days and Sunday being the least popular. \n",
    "This is pretty interesting because someone might think that most TED Conferences would happen sometime in the weekend."
   ]
  },
  {
   "cell_type": "markdown",
   "metadata": {},
   "source": [
    "# TOP SPEAKERS\n",
    "After exploring talks distributed throught the year now let us analyse by the speakers who have given most number of TED talks. Here we will gain insight on popular speakers."
   ]
  },
  {
   "cell_type": "code",
   "execution_count": 209,
   "metadata": {},
   "outputs": [
    {
     "data": {
      "text/html": [
       "<div>\n",
       "<style scoped>\n",
       "    .dataframe tbody tr th:only-of-type {\n",
       "        vertical-align: middle;\n",
       "    }\n",
       "\n",
       "    .dataframe tbody tr th {\n",
       "        vertical-align: top;\n",
       "    }\n",
       "\n",
       "    .dataframe thead th {\n",
       "        text-align: right;\n",
       "    }\n",
       "</style>\n",
       "<table border=\"1\" class=\"dataframe\">\n",
       "  <thead>\n",
       "    <tr style=\"text-align: right;\">\n",
       "      <th></th>\n",
       "      <th>main_speaker</th>\n",
       "      <th>appearances</th>\n",
       "    </tr>\n",
       "  </thead>\n",
       "  <tbody>\n",
       "    <tr>\n",
       "      <th>770</th>\n",
       "      <td>Hans Rosling</td>\n",
       "      <td>9</td>\n",
       "    </tr>\n",
       "    <tr>\n",
       "      <th>1066</th>\n",
       "      <td>Juan Enriquez</td>\n",
       "      <td>7</td>\n",
       "    </tr>\n",
       "    <tr>\n",
       "      <th>1693</th>\n",
       "      <td>Rives</td>\n",
       "      <td>6</td>\n",
       "    </tr>\n",
       "    <tr>\n",
       "      <th>1278</th>\n",
       "      <td>Marco Tempest</td>\n",
       "      <td>6</td>\n",
       "    </tr>\n",
       "    <tr>\n",
       "      <th>397</th>\n",
       "      <td>Clay Shirky</td>\n",
       "      <td>5</td>\n",
       "    </tr>\n",
       "    <tr>\n",
       "      <th>1487</th>\n",
       "      <td>Nicholas Negroponte</td>\n",
       "      <td>5</td>\n",
       "    </tr>\n",
       "    <tr>\n",
       "      <th>1075</th>\n",
       "      <td>Julian Treasure</td>\n",
       "      <td>5</td>\n",
       "    </tr>\n",
       "    <tr>\n",
       "      <th>424</th>\n",
       "      <td>Dan Ariely</td>\n",
       "      <td>5</td>\n",
       "    </tr>\n",
       "    <tr>\n",
       "      <th>850</th>\n",
       "      <td>Jacqueline Novogratz</td>\n",
       "      <td>5</td>\n",
       "    </tr>\n",
       "    <tr>\n",
       "      <th>248</th>\n",
       "      <td>Bill Gates</td>\n",
       "      <td>5</td>\n",
       "    </tr>\n",
       "    <tr>\n",
       "      <th>662</th>\n",
       "      <td>Eve Ensler</td>\n",
       "      <td>4</td>\n",
       "    </tr>\n",
       "    <tr>\n",
       "      <th>1934</th>\n",
       "      <td>Steven Johnson</td>\n",
       "      <td>4</td>\n",
       "    </tr>\n",
       "    <tr>\n",
       "      <th>1129</th>\n",
       "      <td>Ken Robinson</td>\n",
       "      <td>4</td>\n",
       "    </tr>\n",
       "    <tr>\n",
       "      <th>37</th>\n",
       "      <td>Al Gore</td>\n",
       "      <td>4</td>\n",
       "    </tr>\n",
       "    <tr>\n",
       "      <th>211</th>\n",
       "      <td>Barry Schwartz</td>\n",
       "      <td>4</td>\n",
       "    </tr>\n",
       "  </tbody>\n",
       "</table>\n",
       "</div>"
      ],
      "text/plain": [
       "              main_speaker  appearances\n",
       "770           Hans Rosling            9\n",
       "1066         Juan Enriquez            7\n",
       "1693                 Rives            6\n",
       "1278         Marco Tempest            6\n",
       "397            Clay Shirky            5\n",
       "1487   Nicholas Negroponte            5\n",
       "1075       Julian Treasure            5\n",
       "424             Dan Ariely            5\n",
       "850   Jacqueline Novogratz            5\n",
       "248             Bill Gates            5\n",
       "662             Eve Ensler            4\n",
       "1934        Steven Johnson            4\n",
       "1129          Ken Robinson            4\n",
       "37                 Al Gore            4\n",
       "211         Barry Schwartz            4"
      ]
     },
     "execution_count": 209,
     "metadata": {},
     "output_type": "execute_result"
    }
   ],
   "source": [
    "topspeakers_df = df.groupby('main_speaker').count().reset_index()[['main_speaker', 'comments']]\n",
    "topspeakers_df.columns = ['main_speaker', 'appearances']\n",
    "topspeakers_df = topspeakers_df.sort_values('appearances', ascending=False)\n",
    "topspeakers_df.head(15)"
   ]
  },
  {
   "cell_type": "code",
   "execution_count": 210,
   "metadata": {},
   "outputs": [
    {
     "data": {
      "image/png": "[encoded data removed]",
      "text/plain": [
       "<Figure size 1296x360 with 1 Axes>"
      ]
     },
     "metadata": {},
     "output_type": "display_data"
    }
   ],
   "source": [
    "#plotting top speakers on a barplot\n",
    "plt.figure(figsize=(18,5))\n",
    "sb.barplot(x='main_speaker', y='appearances', data=topspeakers_df.head(15))\n",
    "plt.show()"
   ]
  },
  {
   "cell_type": "markdown",
   "metadata": {},
   "source": [
    "Here we can observe that **Hans Rosling** appears 9 times in TED talks as a main speaker, **Juan Enriquez** as 7 times, **Rives** as 6 times and so on...\n",
    "\n",
    "Also since **Hans Rosling** is Global health expert and data visionary, this arises a question regarding speakers occupation. Which occupation should you choose if you want to become a TED Speaker? Let us have a look what kind of people TED is most interested in inviting to its events.\n",
    " "
   ]
  },
  {
   "cell_type": "code",
   "execution_count": 211,
   "metadata": {},
   "outputs": [
    {
     "data": {
      "text/html": [
       "<div>\n",
       "<style scoped>\n",
       "    .dataframe tbody tr th:only-of-type {\n",
       "        vertical-align: middle;\n",
       "    }\n",
       "\n",
       "    .dataframe tbody tr th {\n",
       "        vertical-align: top;\n",
       "    }\n",
       "\n",
       "    .dataframe thead th {\n",
       "        text-align: right;\n",
       "    }\n",
       "</style>\n",
       "<table border=\"1\" class=\"dataframe\">\n",
       "  <thead>\n",
       "    <tr style=\"text-align: right;\">\n",
       "      <th></th>\n",
       "      <th>occupation</th>\n",
       "      <th>appearances</th>\n",
       "    </tr>\n",
       "  </thead>\n",
       "  <tbody>\n",
       "    <tr>\n",
       "      <th>1426</th>\n",
       "      <td>Writer</td>\n",
       "      <td>45</td>\n",
       "    </tr>\n",
       "    <tr>\n",
       "      <th>83</th>\n",
       "      <td>Artist</td>\n",
       "      <td>34</td>\n",
       "    </tr>\n",
       "    <tr>\n",
       "      <th>413</th>\n",
       "      <td>Designer</td>\n",
       "      <td>34</td>\n",
       "    </tr>\n",
       "    <tr>\n",
       "      <th>753</th>\n",
       "      <td>Journalist</td>\n",
       "      <td>33</td>\n",
       "    </tr>\n",
       "    <tr>\n",
       "      <th>515</th>\n",
       "      <td>Entrepreneur</td>\n",
       "      <td>31</td>\n",
       "    </tr>\n",
       "    <tr>\n",
       "      <th>71</th>\n",
       "      <td>Architect</td>\n",
       "      <td>30</td>\n",
       "    </tr>\n",
       "    <tr>\n",
       "      <th>733</th>\n",
       "      <td>Inventor</td>\n",
       "      <td>27</td>\n",
       "    </tr>\n",
       "    <tr>\n",
       "      <th>1131</th>\n",
       "      <td>Psychologist</td>\n",
       "      <td>26</td>\n",
       "    </tr>\n",
       "    <tr>\n",
       "      <th>1011</th>\n",
       "      <td>Photographer</td>\n",
       "      <td>25</td>\n",
       "    </tr>\n",
       "    <tr>\n",
       "      <th>567</th>\n",
       "      <td>Filmmaker</td>\n",
       "      <td>21</td>\n",
       "    </tr>\n",
       "    <tr>\n",
       "      <th>491</th>\n",
       "      <td>Educator</td>\n",
       "      <td>20</td>\n",
       "    </tr>\n",
       "    <tr>\n",
       "      <th>121</th>\n",
       "      <td>Author</td>\n",
       "      <td>20</td>\n",
       "    </tr>\n",
       "    <tr>\n",
       "      <th>924</th>\n",
       "      <td>Neuroscientist</td>\n",
       "      <td>20</td>\n",
       "    </tr>\n",
       "    <tr>\n",
       "      <th>474</th>\n",
       "      <td>Economist</td>\n",
       "      <td>20</td>\n",
       "    </tr>\n",
       "    <tr>\n",
       "      <th>1175</th>\n",
       "      <td>Roboticist</td>\n",
       "      <td>16</td>\n",
       "    </tr>\n",
       "  </tbody>\n",
       "</table>\n",
       "</div>"
      ],
      "text/plain": [
       "          occupation  appearances\n",
       "1426          Writer           45\n",
       "83            Artist           34\n",
       "413         Designer           34\n",
       "753       Journalist           33\n",
       "515     Entrepreneur           31\n",
       "71         Architect           30\n",
       "733         Inventor           27\n",
       "1131    Psychologist           26\n",
       "1011    Photographer           25\n",
       "567        Filmmaker           21\n",
       "491         Educator           20\n",
       "121           Author           20\n",
       "924   Neuroscientist           20\n",
       "474        Economist           20\n",
       "1175      Roboticist           16"
      ]
     },
     "execution_count": 211,
     "metadata": {},
     "output_type": "execute_result"
    }
   ],
   "source": [
    "occupation_df = df.groupby('speaker_occupation').count().reset_index()[['speaker_occupation', 'comments']]\n",
    "occupation_df.columns = ['occupation', 'appearances']\n",
    "occupation_df = occupation_df.sort_values('appearances', ascending=False)\n",
    "occupation_df.head(15)"
   ]
  },
  {
   "cell_type": "code",
   "execution_count": 212,
   "metadata": {},
   "outputs": [
    {
     "data": {
      "image/png": "[encoded data removed]",
      "text/plain": [
       "<Figure size 1296x360 with 1 Axes>"
      ]
     },
     "metadata": {},
     "output_type": "display_data"
    }
   ],
   "source": [
    "#plotting speaker occupation on a barplot\n",
    "plt.figure(figsize=(18,5))\n",
    "sb.barplot(x='occupation', y='appearances', data=occupation_df.head(15))\n",
    "plt.show()"
   ]
  },
  {
   "cell_type": "markdown",
   "metadata": {},
   "source": [
    "Here, **Writers** are the most popular with more than 45 speakers identifying themselves as the aforementioned.\n",
    "**Artists** and **Designers** come a distant second with around 35 speakers in each category."
   ]
  },
  {
   "cell_type": "markdown",
   "metadata": {},
   "source": [
    "# Top Events\n",
    "Now, we will try to answer questions on most worthy events of TED talks.."
   ]
  },
  {
   "cell_type": "code",
   "execution_count": 213,
   "metadata": {
    "scrolled": true
   },
   "outputs": [
    {
     "data": {
      "text/html": [
       "<div>\n",
       "<style scoped>\n",
       "    .dataframe tbody tr th:only-of-type {\n",
       "        vertical-align: middle;\n",
       "    }\n",
       "\n",
       "    .dataframe tbody tr th {\n",
       "        vertical-align: top;\n",
       "    }\n",
       "\n",
       "    .dataframe thead th {\n",
       "        text-align: right;\n",
       "    }\n",
       "</style>\n",
       "<table border=\"1\" class=\"dataframe\">\n",
       "  <thead>\n",
       "    <tr style=\"text-align: right;\">\n",
       "      <th></th>\n",
       "      <th>event</th>\n",
       "      <th>talks</th>\n",
       "    </tr>\n",
       "  </thead>\n",
       "  <tbody>\n",
       "    <tr>\n",
       "      <th>64</th>\n",
       "      <td>TED2014</td>\n",
       "      <td>84</td>\n",
       "    </tr>\n",
       "    <tr>\n",
       "      <th>59</th>\n",
       "      <td>TED2009</td>\n",
       "      <td>83</td>\n",
       "    </tr>\n",
       "    <tr>\n",
       "      <th>63</th>\n",
       "      <td>TED2013</td>\n",
       "      <td>77</td>\n",
       "    </tr>\n",
       "    <tr>\n",
       "      <th>66</th>\n",
       "      <td>TED2016</td>\n",
       "      <td>77</td>\n",
       "    </tr>\n",
       "    <tr>\n",
       "      <th>65</th>\n",
       "      <td>TED2015</td>\n",
       "      <td>75</td>\n",
       "    </tr>\n",
       "    <tr>\n",
       "      <th>99</th>\n",
       "      <td>TEDGlobal 2012</td>\n",
       "      <td>70</td>\n",
       "    </tr>\n",
       "    <tr>\n",
       "      <th>61</th>\n",
       "      <td>TED2011</td>\n",
       "      <td>70</td>\n",
       "    </tr>\n",
       "    <tr>\n",
       "      <th>60</th>\n",
       "      <td>TED2010</td>\n",
       "      <td>68</td>\n",
       "    </tr>\n",
       "    <tr>\n",
       "      <th>98</th>\n",
       "      <td>TEDGlobal 2011</td>\n",
       "      <td>68</td>\n",
       "    </tr>\n",
       "    <tr>\n",
       "      <th>57</th>\n",
       "      <td>TED2007</td>\n",
       "      <td>68</td>\n",
       "    </tr>\n",
       "  </tbody>\n",
       "</table>\n",
       "</div>"
      ],
      "text/plain": [
       "             event  talks\n",
       "64         TED2014     84\n",
       "59         TED2009     83\n",
       "63         TED2013     77\n",
       "66         TED2016     77\n",
       "65         TED2015     75\n",
       "99  TEDGlobal 2012     70\n",
       "61         TED2011     70\n",
       "60         TED2010     68\n",
       "98  TEDGlobal 2011     68\n",
       "57         TED2007     68"
      ]
     },
     "execution_count": 213,
     "metadata": {},
     "output_type": "execute_result"
    }
   ],
   "source": [
    "topevents_df = df[['title', 'event']].groupby('event').count().reset_index()\n",
    "topevents_df.columns = ['event', 'talks']\n",
    "topevents_df = topevents_df.sort_values('talks', ascending=False)\n",
    "topevents_df.head(10)"
   ]
  },
  {
   "cell_type": "code",
   "execution_count": 214,
   "metadata": {},
   "outputs": [
    {
     "data": {
      "image/png": "[encoded data removed]",
      "text/plain": [
       "<Figure size 1296x360 with 1 Axes>"
      ]
     },
     "metadata": {},
     "output_type": "display_data"
    }
   ],
   "source": [
    "#plotting top events on a barplot\n",
    "plt.figure(figsize=(18,5))\n",
    "sb.barplot(x='event', y='talks', data=topevents_df.head(15))\n",
    "plt.show()"
   ]
  },
  {
   "cell_type": "markdown",
   "metadata": {},
   "source": [
    "This chart visualizes that event **TED2014** had the most number to talks till date with more than 80 TED talks. Second topmost event is TED2009 with almost similar number of TED talks as TED2014."
   ]
  },
  {
   "cell_type": "markdown",
   "metadata": {},
   "source": [
    "## TED Languages\n",
    "One exceptional aspect of TED Talks is the different number of languages in which it is accessible. Let us perform some very basic data visualisation and descriptive statistics about languages available in TED."
   ]
  },
  {
   "cell_type": "code",
   "execution_count": 215,
   "metadata": {},
   "outputs": [
    {
     "data": {
      "text/plain": [
       "count    2550.000000\n",
       "mean       27.326275\n",
       "std         9.563452\n",
       "min         0.000000\n",
       "25%        23.000000\n",
       "50%        28.000000\n",
       "75%        33.000000\n",
       "max        72.000000\n",
       "Name: languages, dtype: float64"
      ]
     },
     "execution_count": 215,
     "metadata": {},
     "output_type": "execute_result"
    }
   ],
   "source": [
    "df['languages'].describe()"
   ]
  },
  {
   "cell_type": "markdown",
   "metadata": {},
   "source": [
    "On average, a TED Talk is available in 27 different languages. The maximum number of languages a TED Talk is available in is a staggering 72. Let us check which talk this is."
   ]
  },
  {
   "cell_type": "code",
   "execution_count": 216,
   "metadata": {},
   "outputs": [
    {
     "data": {
      "text/html": [
       "<div>\n",
       "<style scoped>\n",
       "    .dataframe tbody tr th:only-of-type {\n",
       "        vertical-align: middle;\n",
       "    }\n",
       "\n",
       "    .dataframe tbody tr th {\n",
       "        vertical-align: top;\n",
       "    }\n",
       "\n",
       "    .dataframe thead th {\n",
       "        text-align: right;\n",
       "    }\n",
       "</style>\n",
       "<table border=\"1\" class=\"dataframe\">\n",
       "  <thead>\n",
       "    <tr style=\"text-align: right;\">\n",
       "      <th></th>\n",
       "      <th>comments</th>\n",
       "      <th>description</th>\n",
       "      <th>duration</th>\n",
       "      <th>event</th>\n",
       "      <th>film_date</th>\n",
       "      <th>languages</th>\n",
       "      <th>main_speaker</th>\n",
       "      <th>name</th>\n",
       "      <th>num_speaker</th>\n",
       "      <th>published_date</th>\n",
       "      <th>ratings</th>\n",
       "      <th>related_talks</th>\n",
       "      <th>speaker_occupation</th>\n",
       "      <th>tags</th>\n",
       "      <th>title</th>\n",
       "      <th>url</th>\n",
       "      <th>views</th>\n",
       "    </tr>\n",
       "  </thead>\n",
       "  <tbody>\n",
       "    <tr>\n",
       "      <th>973</th>\n",
       "      <td>736</td>\n",
       "      <td>Is there something you've always meant to do, ...</td>\n",
       "      <td>3.45</td>\n",
       "      <td>TED2011</td>\n",
       "      <td>2011-03-03</td>\n",
       "      <td>72</td>\n",
       "      <td>Matt Cutts</td>\n",
       "      <td>Matt Cutts: Try something new for 30 days</td>\n",
       "      <td>1</td>\n",
       "      <td>2011-07-01 15:14:00</td>\n",
       "      <td>[{'id': 10, 'name': 'Inspiring', 'count': 6171...</td>\n",
       "      <td>[{'id': 947, 'hero': 'https://pe.tedcdn.com/im...</td>\n",
       "      <td>Technologist</td>\n",
       "      <td>['culture', 'success']</td>\n",
       "      <td>Try something new for 30 days</td>\n",
       "      <td>https://www.ted.com/talks/matt_cutts_try_somet...</td>\n",
       "      <td>8838874</td>\n",
       "    </tr>\n",
       "  </tbody>\n",
       "</table>\n",
       "</div>"
      ],
      "text/plain": [
       "     comments                                        description  duration  \\\n",
       "973       736  Is there something you've always meant to do, ...      3.45   \n",
       "\n",
       "       event  film_date  languages main_speaker  \\\n",
       "973  TED2011 2011-03-03         72   Matt Cutts   \n",
       "\n",
       "                                          name  num_speaker  \\\n",
       "973  Matt Cutts: Try something new for 30 days            1   \n",
       "\n",
       "         published_date                                            ratings  \\\n",
       "973 2011-07-01 15:14:00  [{'id': 10, 'name': 'Inspiring', 'count': 6171...   \n",
       "\n",
       "                                         related_talks speaker_occupation  \\\n",
       "973  [{'id': 947, 'hero': 'https://pe.tedcdn.com/im...       Technologist   \n",
       "\n",
       "                       tags                          title  \\\n",
       "973  ['culture', 'success']  Try something new for 30 days   \n",
       "\n",
       "                                                   url    views  \n",
       "973  https://www.ted.com/talks/matt_cutts_try_somet...  8838874  "
      ]
     },
     "execution_count": 216,
     "metadata": {},
     "output_type": "execute_result"
    }
   ],
   "source": [
    "df[df['languages'] == 72]"
   ]
  },
  {
   "cell_type": "markdown",
   "metadata": {},
   "source": [
    "The most translated TED Talk of all time is Matt Cutts' Try Something New in 30 Days. The talk does have a very universal theme of exploration. The number of languages it's available in demands a little more inspection though as it has just over 8 million views, far lesser than the most popular TED Talks.\n",
    "\n",
    "Finally, let us check if there is a correlation between the number of views and the number of languages a talk is available in. We would think that this should be the case since the talk is more accessible to a larger number of people but as Matt Cutts' talk shows, it may not really be the case."
   ]
  },
  {
   "cell_type": "code",
   "execution_count": 217,
   "metadata": {},
   "outputs": [
    {
     "data": {
      "text/html": [
       "<div>\n",
       "<style scoped>\n",
       "    .dataframe tbody tr th:only-of-type {\n",
       "        vertical-align: middle;\n",
       "    }\n",
       "\n",
       "    .dataframe tbody tr th {\n",
       "        vertical-align: top;\n",
       "    }\n",
       "\n",
       "    .dataframe thead th {\n",
       "        text-align: right;\n",
       "    }\n",
       "</style>\n",
       "<table border=\"1\" class=\"dataframe\">\n",
       "  <thead>\n",
       "    <tr style=\"text-align: right;\">\n",
       "      <th></th>\n",
       "      <th>comments</th>\n",
       "      <th>duration</th>\n",
       "      <th>languages</th>\n",
       "      <th>num_speaker</th>\n",
       "      <th>views</th>\n",
       "    </tr>\n",
       "  </thead>\n",
       "  <tbody>\n",
       "    <tr>\n",
       "      <th>comments</th>\n",
       "      <td>1.000000</td>\n",
       "      <td>0.140694</td>\n",
       "      <td>0.318284</td>\n",
       "      <td>-0.035489</td>\n",
       "      <td>0.530939</td>\n",
       "    </tr>\n",
       "    <tr>\n",
       "      <th>duration</th>\n",
       "      <td>0.140694</td>\n",
       "      <td>1.000000</td>\n",
       "      <td>-0.295681</td>\n",
       "      <td>0.022257</td>\n",
       "      <td>0.048740</td>\n",
       "    </tr>\n",
       "    <tr>\n",
       "      <th>languages</th>\n",
       "      <td>0.318284</td>\n",
       "      <td>-0.295681</td>\n",
       "      <td>1.000000</td>\n",
       "      <td>-0.063100</td>\n",
       "      <td>0.377623</td>\n",
       "    </tr>\n",
       "    <tr>\n",
       "      <th>num_speaker</th>\n",
       "      <td>-0.035489</td>\n",
       "      <td>0.022257</td>\n",
       "      <td>-0.063100</td>\n",
       "      <td>1.000000</td>\n",
       "      <td>-0.026389</td>\n",
       "    </tr>\n",
       "    <tr>\n",
       "      <th>views</th>\n",
       "      <td>0.530939</td>\n",
       "      <td>0.048740</td>\n",
       "      <td>0.377623</td>\n",
       "      <td>-0.026389</td>\n",
       "      <td>1.000000</td>\n",
       "    </tr>\n",
       "  </tbody>\n",
       "</table>\n",
       "</div>"
      ],
      "text/plain": [
       "             comments  duration  languages  num_speaker     views\n",
       "comments     1.000000  0.140694   0.318284    -0.035489  0.530939\n",
       "duration     0.140694  1.000000  -0.295681     0.022257  0.048740\n",
       "languages    0.318284 -0.295681   1.000000    -0.063100  0.377623\n",
       "num_speaker -0.035489  0.022257  -0.063100     1.000000 -0.026389\n",
       "views        0.530939  0.048740   0.377623    -0.026389  1.000000"
      ]
     },
     "execution_count": 217,
     "metadata": {},
     "output_type": "execute_result"
    }
   ],
   "source": [
    "df.corr()"
   ]
  },
  {
   "cell_type": "code",
   "execution_count": 218,
   "metadata": {},
   "outputs": [
    {
     "data": {
      "image/png": "[encoded data removed]",
      "text/plain": [
       "<Figure size 432x432 with 3 Axes>"
      ]
     },
     "metadata": {},
     "output_type": "display_data"
    }
   ],
   "source": [
    "import seaborn as sns\n",
    "sns.jointplot(x='languages', y='views', data=df)\n",
    "plt.show()"
   ]
  },
  {
   "cell_type": "markdown",
   "metadata": {},
   "source": [
    "## TED Themes\n",
    "In this section, we will try to find out the most popular themes in the TED conferences. Although TED started out as a conference about technology, entertainment and design, it has since diversified into virtually every field of study and walk of life. It will be interesting to see if this conference with Silicon Valley origins has a bias towards certain topics.\n",
    "\n",
    "To answer this question, we need to wrangle our data in a way that it is suitable for analysis. More specifically, we need to split the related_tags list into separate rows."
   ]
  },
  {
   "cell_type": "code",
   "execution_count": 219,
   "metadata": {},
   "outputs": [],
   "source": [
    "import ast\n",
    "df['tags'] = df['tags'].apply(lambda x: ast.literal_eval(x))"
   ]
  },
  {
   "cell_type": "code",
   "execution_count": 220,
   "metadata": {},
   "outputs": [],
   "source": [
    "s = df.apply(lambda x: pd.Series(x['tags']),axis=1).stack().reset_index(level=1, drop=True)\n",
    "s.name = 'theme'"
   ]
  },
  {
   "cell_type": "code",
   "execution_count": 221,
   "metadata": {},
   "outputs": [
    {
     "data": {
      "text/html": [
       "<div>\n",
       "<style scoped>\n",
       "    .dataframe tbody tr th:only-of-type {\n",
       "        vertical-align: middle;\n",
       "    }\n",
       "\n",
       "    .dataframe tbody tr th {\n",
       "        vertical-align: top;\n",
       "    }\n",
       "\n",
       "    .dataframe thead th {\n",
       "        text-align: right;\n",
       "    }\n",
       "</style>\n",
       "<table border=\"1\" class=\"dataframe\">\n",
       "  <thead>\n",
       "    <tr style=\"text-align: right;\">\n",
       "      <th></th>\n",
       "      <th>comments</th>\n",
       "      <th>description</th>\n",
       "      <th>duration</th>\n",
       "      <th>event</th>\n",
       "      <th>film_date</th>\n",
       "      <th>languages</th>\n",
       "      <th>main_speaker</th>\n",
       "      <th>name</th>\n",
       "      <th>num_speaker</th>\n",
       "      <th>published_date</th>\n",
       "      <th>ratings</th>\n",
       "      <th>related_talks</th>\n",
       "      <th>speaker_occupation</th>\n",
       "      <th>title</th>\n",
       "      <th>url</th>\n",
       "      <th>views</th>\n",
       "      <th>theme</th>\n",
       "    </tr>\n",
       "  </thead>\n",
       "  <tbody>\n",
       "    <tr>\n",
       "      <th>0</th>\n",
       "      <td>4553</td>\n",
       "      <td>Sir Ken Robinson makes an entertaining and pro...</td>\n",
       "      <td>19.4</td>\n",
       "      <td>TED2006</td>\n",
       "      <td>2006-02-25</td>\n",
       "      <td>60</td>\n",
       "      <td>Ken Robinson</td>\n",
       "      <td>Ken Robinson: Do schools kill creativity?</td>\n",
       "      <td>1</td>\n",
       "      <td>2006-06-27 00:11:00</td>\n",
       "      <td>[{'id': 7, 'name': 'Funny', 'count': 19645}, {...</td>\n",
       "      <td>[{'id': 865, 'hero': 'https://pe.tedcdn.com/im...</td>\n",
       "      <td>Author/educator</td>\n",
       "      <td>Do schools kill creativity?</td>\n",
       "      <td>https://www.ted.com/talks/ken_robinson_says_sc...</td>\n",
       "      <td>47227110</td>\n",
       "      <td>children</td>\n",
       "    </tr>\n",
       "    <tr>\n",
       "      <th>0</th>\n",
       "      <td>4553</td>\n",
       "      <td>Sir Ken Robinson makes an entertaining and pro...</td>\n",
       "      <td>19.4</td>\n",
       "      <td>TED2006</td>\n",
       "      <td>2006-02-25</td>\n",
       "      <td>60</td>\n",
       "      <td>Ken Robinson</td>\n",
       "      <td>Ken Robinson: Do schools kill creativity?</td>\n",
       "      <td>1</td>\n",
       "      <td>2006-06-27 00:11:00</td>\n",
       "      <td>[{'id': 7, 'name': 'Funny', 'count': 19645}, {...</td>\n",
       "      <td>[{'id': 865, 'hero': 'https://pe.tedcdn.com/im...</td>\n",
       "      <td>Author/educator</td>\n",
       "      <td>Do schools kill creativity?</td>\n",
       "      <td>https://www.ted.com/talks/ken_robinson_says_sc...</td>\n",
       "      <td>47227110</td>\n",
       "      <td>creativity</td>\n",
       "    </tr>\n",
       "    <tr>\n",
       "      <th>0</th>\n",
       "      <td>4553</td>\n",
       "      <td>Sir Ken Robinson makes an entertaining and pro...</td>\n",
       "      <td>19.4</td>\n",
       "      <td>TED2006</td>\n",
       "      <td>2006-02-25</td>\n",
       "      <td>60</td>\n",
       "      <td>Ken Robinson</td>\n",
       "      <td>Ken Robinson: Do schools kill creativity?</td>\n",
       "      <td>1</td>\n",
       "      <td>2006-06-27 00:11:00</td>\n",
       "      <td>[{'id': 7, 'name': 'Funny', 'count': 19645}, {...</td>\n",
       "      <td>[{'id': 865, 'hero': 'https://pe.tedcdn.com/im...</td>\n",
       "      <td>Author/educator</td>\n",
       "      <td>Do schools kill creativity?</td>\n",
       "      <td>https://www.ted.com/talks/ken_robinson_says_sc...</td>\n",
       "      <td>47227110</td>\n",
       "      <td>culture</td>\n",
       "    </tr>\n",
       "    <tr>\n",
       "      <th>0</th>\n",
       "      <td>4553</td>\n",
       "      <td>Sir Ken Robinson makes an entertaining and pro...</td>\n",
       "      <td>19.4</td>\n",
       "      <td>TED2006</td>\n",
       "      <td>2006-02-25</td>\n",
       "      <td>60</td>\n",
       "      <td>Ken Robinson</td>\n",
       "      <td>Ken Robinson: Do schools kill creativity?</td>\n",
       "      <td>1</td>\n",
       "      <td>2006-06-27 00:11:00</td>\n",
       "      <td>[{'id': 7, 'name': 'Funny', 'count': 19645}, {...</td>\n",
       "      <td>[{'id': 865, 'hero': 'https://pe.tedcdn.com/im...</td>\n",
       "      <td>Author/educator</td>\n",
       "      <td>Do schools kill creativity?</td>\n",
       "      <td>https://www.ted.com/talks/ken_robinson_says_sc...</td>\n",
       "      <td>47227110</td>\n",
       "      <td>dance</td>\n",
       "    </tr>\n",
       "    <tr>\n",
       "      <th>0</th>\n",
       "      <td>4553</td>\n",
       "      <td>Sir Ken Robinson makes an entertaining and pro...</td>\n",
       "      <td>19.4</td>\n",
       "      <td>TED2006</td>\n",
       "      <td>2006-02-25</td>\n",
       "      <td>60</td>\n",
       "      <td>Ken Robinson</td>\n",
       "      <td>Ken Robinson: Do schools kill creativity?</td>\n",
       "      <td>1</td>\n",
       "      <td>2006-06-27 00:11:00</td>\n",
       "      <td>[{'id': 7, 'name': 'Funny', 'count': 19645}, {...</td>\n",
       "      <td>[{'id': 865, 'hero': 'https://pe.tedcdn.com/im...</td>\n",
       "      <td>Author/educator</td>\n",
       "      <td>Do schools kill creativity?</td>\n",
       "      <td>https://www.ted.com/talks/ken_robinson_says_sc...</td>\n",
       "      <td>47227110</td>\n",
       "      <td>education</td>\n",
       "    </tr>\n",
       "  </tbody>\n",
       "</table>\n",
       "</div>"
      ],
      "text/plain": [
       "   comments                                        description  duration  \\\n",
       "0      4553  Sir Ken Robinson makes an entertaining and pro...      19.4   \n",
       "0      4553  Sir Ken Robinson makes an entertaining and pro...      19.4   \n",
       "0      4553  Sir Ken Robinson makes an entertaining and pro...      19.4   \n",
       "0      4553  Sir Ken Robinson makes an entertaining and pro...      19.4   \n",
       "0      4553  Sir Ken Robinson makes an entertaining and pro...      19.4   \n",
       "\n",
       "     event  film_date  languages  main_speaker  \\\n",
       "0  TED2006 2006-02-25         60  Ken Robinson   \n",
       "0  TED2006 2006-02-25         60  Ken Robinson   \n",
       "0  TED2006 2006-02-25         60  Ken Robinson   \n",
       "0  TED2006 2006-02-25         60  Ken Robinson   \n",
       "0  TED2006 2006-02-25         60  Ken Robinson   \n",
       "\n",
       "                                        name  num_speaker      published_date  \\\n",
       "0  Ken Robinson: Do schools kill creativity?            1 2006-06-27 00:11:00   \n",
       "0  Ken Robinson: Do schools kill creativity?            1 2006-06-27 00:11:00   \n",
       "0  Ken Robinson: Do schools kill creativity?            1 2006-06-27 00:11:00   \n",
       "0  Ken Robinson: Do schools kill creativity?            1 2006-06-27 00:11:00   \n",
       "0  Ken Robinson: Do schools kill creativity?            1 2006-06-27 00:11:00   \n",
       "\n",
       "                                             ratings  \\\n",
       "0  [{'id': 7, 'name': 'Funny', 'count': 19645}, {...   \n",
       "0  [{'id': 7, 'name': 'Funny', 'count': 19645}, {...   \n",
       "0  [{'id': 7, 'name': 'Funny', 'count': 19645}, {...   \n",
       "0  [{'id': 7, 'name': 'Funny', 'count': 19645}, {...   \n",
       "0  [{'id': 7, 'name': 'Funny', 'count': 19645}, {...   \n",
       "\n",
       "                                       related_talks speaker_occupation  \\\n",
       "0  [{'id': 865, 'hero': 'https://pe.tedcdn.com/im...    Author/educator   \n",
       "0  [{'id': 865, 'hero': 'https://pe.tedcdn.com/im...    Author/educator   \n",
       "0  [{'id': 865, 'hero': 'https://pe.tedcdn.com/im...    Author/educator   \n",
       "0  [{'id': 865, 'hero': 'https://pe.tedcdn.com/im...    Author/educator   \n",
       "0  [{'id': 865, 'hero': 'https://pe.tedcdn.com/im...    Author/educator   \n",
       "\n",
       "                         title  \\\n",
       "0  Do schools kill creativity?   \n",
       "0  Do schools kill creativity?   \n",
       "0  Do schools kill creativity?   \n",
       "0  Do schools kill creativity?   \n",
       "0  Do schools kill creativity?   \n",
       "\n",
       "                                                 url     views       theme  \n",
       "0  https://www.ted.com/talks/ken_robinson_says_sc...  47227110    children  \n",
       "0  https://www.ted.com/talks/ken_robinson_says_sc...  47227110  creativity  \n",
       "0  https://www.ted.com/talks/ken_robinson_says_sc...  47227110     culture  \n",
       "0  https://www.ted.com/talks/ken_robinson_says_sc...  47227110       dance  \n",
       "0  https://www.ted.com/talks/ken_robinson_says_sc...  47227110   education  "
      ]
     },
     "execution_count": 221,
     "metadata": {},
     "output_type": "execute_result"
    }
   ],
   "source": [
    "theme_df = df.drop('tags', axis=1).join(s)\n",
    "theme_df.head()"
   ]
  },
  {
   "cell_type": "code",
   "execution_count": 222,
   "metadata": {},
   "outputs": [
    {
     "data": {
      "text/plain": [
       "416"
      ]
     },
     "execution_count": 222,
     "metadata": {},
     "output_type": "execute_result"
    }
   ],
   "source": [
    "len(theme_df['theme'].value_counts())"
   ]
  },
  {
   "cell_type": "markdown",
   "metadata": {},
   "source": [
    "TED defines a staggering **416 different categories** for its talks. Let us now check the most popular themes."
   ]
  },
  {
   "cell_type": "code",
   "execution_count": 223,
   "metadata": {},
   "outputs": [
    {
     "data": {
      "text/html": [
       "<div>\n",
       "<style scoped>\n",
       "    .dataframe tbody tr th:only-of-type {\n",
       "        vertical-align: middle;\n",
       "    }\n",
       "\n",
       "    .dataframe tbody tr th {\n",
       "        vertical-align: top;\n",
       "    }\n",
       "\n",
       "    .dataframe thead th {\n",
       "        text-align: right;\n",
       "    }\n",
       "</style>\n",
       "<table border=\"1\" class=\"dataframe\">\n",
       "  <thead>\n",
       "    <tr style=\"text-align: right;\">\n",
       "      <th></th>\n",
       "      <th>theme</th>\n",
       "      <th>talks</th>\n",
       "    </tr>\n",
       "  </thead>\n",
       "  <tbody>\n",
       "    <tr>\n",
       "      <th>0</th>\n",
       "      <td>technology</td>\n",
       "      <td>727</td>\n",
       "    </tr>\n",
       "    <tr>\n",
       "      <th>1</th>\n",
       "      <td>science</td>\n",
       "      <td>567</td>\n",
       "    </tr>\n",
       "    <tr>\n",
       "      <th>2</th>\n",
       "      <td>global issues</td>\n",
       "      <td>501</td>\n",
       "    </tr>\n",
       "    <tr>\n",
       "      <th>3</th>\n",
       "      <td>culture</td>\n",
       "      <td>486</td>\n",
       "    </tr>\n",
       "    <tr>\n",
       "      <th>4</th>\n",
       "      <td>TEDx</td>\n",
       "      <td>450</td>\n",
       "    </tr>\n",
       "    <tr>\n",
       "      <th>5</th>\n",
       "      <td>design</td>\n",
       "      <td>418</td>\n",
       "    </tr>\n",
       "    <tr>\n",
       "      <th>6</th>\n",
       "      <td>business</td>\n",
       "      <td>348</td>\n",
       "    </tr>\n",
       "    <tr>\n",
       "      <th>7</th>\n",
       "      <td>entertainment</td>\n",
       "      <td>299</td>\n",
       "    </tr>\n",
       "    <tr>\n",
       "      <th>8</th>\n",
       "      <td>health</td>\n",
       "      <td>236</td>\n",
       "    </tr>\n",
       "    <tr>\n",
       "      <th>9</th>\n",
       "      <td>innovation</td>\n",
       "      <td>229</td>\n",
       "    </tr>\n",
       "  </tbody>\n",
       "</table>\n",
       "</div>"
      ],
      "text/plain": [
       "           theme  talks\n",
       "0     technology    727\n",
       "1        science    567\n",
       "2  global issues    501\n",
       "3        culture    486\n",
       "4           TEDx    450\n",
       "5         design    418\n",
       "6       business    348\n",
       "7  entertainment    299\n",
       "8         health    236\n",
       "9     innovation    229"
      ]
     },
     "execution_count": 223,
     "metadata": {},
     "output_type": "execute_result"
    }
   ],
   "source": [
    "popular_themes = pd.DataFrame(theme_df['theme'].value_counts()).reset_index()\n",
    "popular_themes.columns = ['theme', 'talks']\n",
    "popular_themes.head(10)"
   ]
  },
  {
   "cell_type": "code",
   "execution_count": 224,
   "metadata": {},
   "outputs": [
    {
     "data": {
      "image/png": "[encoded data removed]",
      "text/plain": [
       "<Figure size 1080x360 with 1 Axes>"
      ]
     },
     "metadata": {},
     "output_type": "display_data"
    }
   ],
   "source": [
    "plt.figure(figsize=(15,5))\n",
    "sns.barplot(x='theme', y='talks', data=popular_themes.head(10))\n",
    "plt.show()"
   ]
  },
  {
   "cell_type": "markdown",
   "metadata": {},
   "source": [
    "As may have been expected, Technology is the most popular topic for talks. The other two original factions, Design and Entertainment, also make it to the list of top 10 themes. Science and Global Issues are the second and the third most popular themes respectively.\n",
    "\n",
    "The next question I want to answer is the trends in the share of topics of TED Talks across the world. Has the demand for Technology talks increased? Do certain years have a disproportionate share of talks related to global issues? Let's find out!\n",
    "\n",
    "We will only be considering the top 7 themes, excluding TEDx and talks after 2009, the year when the number of TED Talks really peaked."
   ]
  },
  {
   "cell_type": "code",
   "execution_count": 225,
   "metadata": {},
   "outputs": [
    {
     "data": {
      "text/html": [
       "<div>\n",
       "<style scoped>\n",
       "    .dataframe tbody tr th:only-of-type {\n",
       "        vertical-align: middle;\n",
       "    }\n",
       "\n",
       "    .dataframe tbody tr th {\n",
       "        vertical-align: top;\n",
       "    }\n",
       "\n",
       "    .dataframe thead th {\n",
       "        text-align: right;\n",
       "    }\n",
       "</style>\n",
       "<table border=\"1\" class=\"dataframe\">\n",
       "  <thead>\n",
       "    <tr style=\"text-align: right;\">\n",
       "      <th></th>\n",
       "      <th>comments</th>\n",
       "      <th>description</th>\n",
       "      <th>duration</th>\n",
       "      <th>event</th>\n",
       "      <th>film_date</th>\n",
       "      <th>languages</th>\n",
       "      <th>main_speaker</th>\n",
       "      <th>name</th>\n",
       "      <th>num_speaker</th>\n",
       "      <th>published_date</th>\n",
       "      <th>ratings</th>\n",
       "      <th>related_talks</th>\n",
       "      <th>speaker_occupation</th>\n",
       "      <th>title</th>\n",
       "      <th>url</th>\n",
       "      <th>views</th>\n",
       "      <th>theme</th>\n",
       "      <th>date</th>\n",
       "      <th>y</th>\n",
       "    </tr>\n",
       "  </thead>\n",
       "  <tbody>\n",
       "    <tr>\n",
       "      <th>0</th>\n",
       "      <td>4553</td>\n",
       "      <td>Sir Ken Robinson makes an entertaining and pro...</td>\n",
       "      <td>19.400000</td>\n",
       "      <td>TED2006</td>\n",
       "      <td>2006-02-25</td>\n",
       "      <td>60</td>\n",
       "      <td>Ken Robinson</td>\n",
       "      <td>Ken Robinson: Do schools kill creativity?</td>\n",
       "      <td>1</td>\n",
       "      <td>2006-06-27 00:11:00</td>\n",
       "      <td>[{'id': 7, 'name': 'Funny', 'count': 19645}, {...</td>\n",
       "      <td>[{'id': 865, 'hero': 'https://pe.tedcdn.com/im...</td>\n",
       "      <td>Author/educator</td>\n",
       "      <td>Do schools kill creativity?</td>\n",
       "      <td>https://www.ted.com/talks/ken_robinson_says_sc...</td>\n",
       "      <td>47227110</td>\n",
       "      <td>culture</td>\n",
       "      <td>2006-02-25</td>\n",
       "      <td>2006</td>\n",
       "    </tr>\n",
       "    <tr>\n",
       "      <th>1</th>\n",
       "      <td>265</td>\n",
       "      <td>With the same humor and humanity he exuded in ...</td>\n",
       "      <td>16.283333</td>\n",
       "      <td>TED2006</td>\n",
       "      <td>2006-02-25</td>\n",
       "      <td>43</td>\n",
       "      <td>Al Gore</td>\n",
       "      <td>Al Gore: Averting the climate crisis</td>\n",
       "      <td>1</td>\n",
       "      <td>2006-06-27 00:11:00</td>\n",
       "      <td>[{'id': 7, 'name': 'Funny', 'count': 544}, {'i...</td>\n",
       "      <td>[{'id': 243, 'hero': 'https://pe.tedcdn.com/im...</td>\n",
       "      <td>Climate advocate</td>\n",
       "      <td>Averting the climate crisis</td>\n",
       "      <td>https://www.ted.com/talks/al_gore_on_averting_...</td>\n",
       "      <td>3200520</td>\n",
       "      <td>culture</td>\n",
       "      <td>2006-02-25</td>\n",
       "      <td>2006</td>\n",
       "    </tr>\n",
       "    <tr>\n",
       "      <th>1</th>\n",
       "      <td>265</td>\n",
       "      <td>With the same humor and humanity he exuded in ...</td>\n",
       "      <td>16.283333</td>\n",
       "      <td>TED2006</td>\n",
       "      <td>2006-02-25</td>\n",
       "      <td>43</td>\n",
       "      <td>Al Gore</td>\n",
       "      <td>Al Gore: Averting the climate crisis</td>\n",
       "      <td>1</td>\n",
       "      <td>2006-06-27 00:11:00</td>\n",
       "      <td>[{'id': 7, 'name': 'Funny', 'count': 544}, {'i...</td>\n",
       "      <td>[{'id': 243, 'hero': 'https://pe.tedcdn.com/im...</td>\n",
       "      <td>Climate advocate</td>\n",
       "      <td>Averting the climate crisis</td>\n",
       "      <td>https://www.ted.com/talks/al_gore_on_averting_...</td>\n",
       "      <td>3200520</td>\n",
       "      <td>global issues</td>\n",
       "      <td>2006-02-25</td>\n",
       "      <td>2006</td>\n",
       "    </tr>\n",
       "    <tr>\n",
       "      <th>1</th>\n",
       "      <td>265</td>\n",
       "      <td>With the same humor and humanity he exuded in ...</td>\n",
       "      <td>16.283333</td>\n",
       "      <td>TED2006</td>\n",
       "      <td>2006-02-25</td>\n",
       "      <td>43</td>\n",
       "      <td>Al Gore</td>\n",
       "      <td>Al Gore: Averting the climate crisis</td>\n",
       "      <td>1</td>\n",
       "      <td>2006-06-27 00:11:00</td>\n",
       "      <td>[{'id': 7, 'name': 'Funny', 'count': 544}, {'i...</td>\n",
       "      <td>[{'id': 243, 'hero': 'https://pe.tedcdn.com/im...</td>\n",
       "      <td>Climate advocate</td>\n",
       "      <td>Averting the climate crisis</td>\n",
       "      <td>https://www.ted.com/talks/al_gore_on_averting_...</td>\n",
       "      <td>3200520</td>\n",
       "      <td>science</td>\n",
       "      <td>2006-02-25</td>\n",
       "      <td>2006</td>\n",
       "    </tr>\n",
       "    <tr>\n",
       "      <th>1</th>\n",
       "      <td>265</td>\n",
       "      <td>With the same humor and humanity he exuded in ...</td>\n",
       "      <td>16.283333</td>\n",
       "      <td>TED2006</td>\n",
       "      <td>2006-02-25</td>\n",
       "      <td>43</td>\n",
       "      <td>Al Gore</td>\n",
       "      <td>Al Gore: Averting the climate crisis</td>\n",
       "      <td>1</td>\n",
       "      <td>2006-06-27 00:11:00</td>\n",
       "      <td>[{'id': 7, 'name': 'Funny', 'count': 544}, {'i...</td>\n",
       "      <td>[{'id': 243, 'hero': 'https://pe.tedcdn.com/im...</td>\n",
       "      <td>Climate advocate</td>\n",
       "      <td>Averting the climate crisis</td>\n",
       "      <td>https://www.ted.com/talks/al_gore_on_averting_...</td>\n",
       "      <td>3200520</td>\n",
       "      <td>technology</td>\n",
       "      <td>2006-02-25</td>\n",
       "      <td>2006</td>\n",
       "    </tr>\n",
       "    <tr>\n",
       "      <th>2</th>\n",
       "      <td>124</td>\n",
       "      <td>New York Times columnist David Pogue takes aim...</td>\n",
       "      <td>21.433333</td>\n",
       "      <td>TED2006</td>\n",
       "      <td>2006-02-24</td>\n",
       "      <td>26</td>\n",
       "      <td>David Pogue</td>\n",
       "      <td>David Pogue: Simplicity sells</td>\n",
       "      <td>1</td>\n",
       "      <td>2006-06-27 00:11:00</td>\n",
       "      <td>[{'id': 7, 'name': 'Funny', 'count': 964}, {'i...</td>\n",
       "      <td>[{'id': 1725, 'hero': 'https://pe.tedcdn.com/i...</td>\n",
       "      <td>Technology columnist</td>\n",
       "      <td>Simplicity sells</td>\n",
       "      <td>https://www.ted.com/talks/david_pogue_says_sim...</td>\n",
       "      <td>1636292</td>\n",
       "      <td>entertainment</td>\n",
       "      <td>2006-02-24</td>\n",
       "      <td>2006</td>\n",
       "    </tr>\n",
       "    <tr>\n",
       "      <th>2</th>\n",
       "      <td>124</td>\n",
       "      <td>New York Times columnist David Pogue takes aim...</td>\n",
       "      <td>21.433333</td>\n",
       "      <td>TED2006</td>\n",
       "      <td>2006-02-24</td>\n",
       "      <td>26</td>\n",
       "      <td>David Pogue</td>\n",
       "      <td>David Pogue: Simplicity sells</td>\n",
       "      <td>1</td>\n",
       "      <td>2006-06-27 00:11:00</td>\n",
       "      <td>[{'id': 7, 'name': 'Funny', 'count': 964}, {'i...</td>\n",
       "      <td>[{'id': 1725, 'hero': 'https://pe.tedcdn.com/i...</td>\n",
       "      <td>Technology columnist</td>\n",
       "      <td>Simplicity sells</td>\n",
       "      <td>https://www.ted.com/talks/david_pogue_says_sim...</td>\n",
       "      <td>1636292</td>\n",
       "      <td>technology</td>\n",
       "      <td>2006-02-24</td>\n",
       "      <td>2006</td>\n",
       "    </tr>\n",
       "    <tr>\n",
       "      <th>3</th>\n",
       "      <td>200</td>\n",
       "      <td>In an emotionally charged talk, MacArthur-winn...</td>\n",
       "      <td>18.600000</td>\n",
       "      <td>TED2006</td>\n",
       "      <td>2006-02-26</td>\n",
       "      <td>35</td>\n",
       "      <td>Majora Carter</td>\n",
       "      <td>Majora Carter: Greening the ghetto</td>\n",
       "      <td>1</td>\n",
       "      <td>2006-06-27 00:11:00</td>\n",
       "      <td>[{'id': 3, 'name': 'Courageous', 'count': 760}...</td>\n",
       "      <td>[{'id': 1041, 'hero': 'https://pe.tedcdn.com/i...</td>\n",
       "      <td>Activist for environmental justice</td>\n",
       "      <td>Greening the ghetto</td>\n",
       "      <td>https://www.ted.com/talks/majora_carter_s_tale...</td>\n",
       "      <td>1697550</td>\n",
       "      <td>business</td>\n",
       "      <td>2006-02-26</td>\n",
       "      <td>2006</td>\n",
       "    </tr>\n",
       "    <tr>\n",
       "      <th>4</th>\n",
       "      <td>593</td>\n",
       "      <td>You've never seen data presented like this. Wi...</td>\n",
       "      <td>19.833333</td>\n",
       "      <td>TED2006</td>\n",
       "      <td>2006-02-22</td>\n",
       "      <td>48</td>\n",
       "      <td>Hans Rosling</td>\n",
       "      <td>Hans Rosling: The best stats you've ever seen</td>\n",
       "      <td>1</td>\n",
       "      <td>2006-06-27 20:38:00</td>\n",
       "      <td>[{'id': 9, 'name': 'Ingenious', 'count': 3202}...</td>\n",
       "      <td>[{'id': 2056, 'hero': 'https://pe.tedcdn.com/i...</td>\n",
       "      <td>Global health expert; data visionary</td>\n",
       "      <td>The best stats you've ever seen</td>\n",
       "      <td>https://www.ted.com/talks/hans_rosling_shows_t...</td>\n",
       "      <td>12005869</td>\n",
       "      <td>global issues</td>\n",
       "      <td>2006-02-22</td>\n",
       "      <td>2006</td>\n",
       "    </tr>\n",
       "    <tr>\n",
       "      <th>5</th>\n",
       "      <td>672</td>\n",
       "      <td>Tony Robbins discusses the \"invisible forces\" ...</td>\n",
       "      <td>21.750000</td>\n",
       "      <td>TED2006</td>\n",
       "      <td>2006-02-02</td>\n",
       "      <td>36</td>\n",
       "      <td>Tony Robbins</td>\n",
       "      <td>Tony Robbins: Why we do what we do</td>\n",
       "      <td>1</td>\n",
       "      <td>2006-06-27 20:38:00</td>\n",
       "      <td>[{'id': 7, 'name': 'Funny', 'count': 1102}, {'...</td>\n",
       "      <td>[{'id': 229, 'hero': 'https://pe.tedcdn.com/im...</td>\n",
       "      <td>Life coach; expert in leadership psychology</td>\n",
       "      <td>Why we do what we do</td>\n",
       "      <td>https://www.ted.com/talks/tony_robbins_asks_wh...</td>\n",
       "      <td>20685401</td>\n",
       "      <td>business</td>\n",
       "      <td>2006-02-02</td>\n",
       "      <td>2006</td>\n",
       "    </tr>\n",
       "  </tbody>\n",
       "</table>\n",
       "</div>"
      ],
      "text/plain": [
       "   comments                                        description   duration  \\\n",
       "0      4553  Sir Ken Robinson makes an entertaining and pro...  19.400000   \n",
       "1       265  With the same humor and humanity he exuded in ...  16.283333   \n",
       "1       265  With the same humor and humanity he exuded in ...  16.283333   \n",
       "1       265  With the same humor and humanity he exuded in ...  16.283333   \n",
       "1       265  With the same humor and humanity he exuded in ...  16.283333   \n",
       "2       124  New York Times columnist David Pogue takes aim...  21.433333   \n",
       "2       124  New York Times columnist David Pogue takes aim...  21.433333   \n",
       "3       200  In an emotionally charged talk, MacArthur-winn...  18.600000   \n",
       "4       593  You've never seen data presented like this. Wi...  19.833333   \n",
       "5       672  Tony Robbins discusses the \"invisible forces\" ...  21.750000   \n",
       "\n",
       "     event  film_date  languages   main_speaker  \\\n",
       "0  TED2006 2006-02-25         60   Ken Robinson   \n",
       "1  TED2006 2006-02-25         43        Al Gore   \n",
       "1  TED2006 2006-02-25         43        Al Gore   \n",
       "1  TED2006 2006-02-25         43        Al Gore   \n",
       "1  TED2006 2006-02-25         43        Al Gore   \n",
       "2  TED2006 2006-02-24         26    David Pogue   \n",
       "2  TED2006 2006-02-24         26    David Pogue   \n",
       "3  TED2006 2006-02-26         35  Majora Carter   \n",
       "4  TED2006 2006-02-22         48   Hans Rosling   \n",
       "5  TED2006 2006-02-02         36   Tony Robbins   \n",
       "\n",
       "                                            name  num_speaker  \\\n",
       "0      Ken Robinson: Do schools kill creativity?            1   \n",
       "1           Al Gore: Averting the climate crisis            1   \n",
       "1           Al Gore: Averting the climate crisis            1   \n",
       "1           Al Gore: Averting the climate crisis            1   \n",
       "1           Al Gore: Averting the climate crisis            1   \n",
       "2                  David Pogue: Simplicity sells            1   \n",
       "2                  David Pogue: Simplicity sells            1   \n",
       "3             Majora Carter: Greening the ghetto            1   \n",
       "4  Hans Rosling: The best stats you've ever seen            1   \n",
       "5             Tony Robbins: Why we do what we do            1   \n",
       "\n",
       "       published_date                                            ratings  \\\n",
       "0 2006-06-27 00:11:00  [{'id': 7, 'name': 'Funny', 'count': 19645}, {...   \n",
       "1 2006-06-27 00:11:00  [{'id': 7, 'name': 'Funny', 'count': 544}, {'i...   \n",
       "1 2006-06-27 00:11:00  [{'id': 7, 'name': 'Funny', 'count': 544}, {'i...   \n",
       "1 2006-06-27 00:11:00  [{'id': 7, 'name': 'Funny', 'count': 544}, {'i...   \n",
       "1 2006-06-27 00:11:00  [{'id': 7, 'name': 'Funny', 'count': 544}, {'i...   \n",
       "2 2006-06-27 00:11:00  [{'id': 7, 'name': 'Funny', 'count': 964}, {'i...   \n",
       "2 2006-06-27 00:11:00  [{'id': 7, 'name': 'Funny', 'count': 964}, {'i...   \n",
       "3 2006-06-27 00:11:00  [{'id': 3, 'name': 'Courageous', 'count': 760}...   \n",
       "4 2006-06-27 20:38:00  [{'id': 9, 'name': 'Ingenious', 'count': 3202}...   \n",
       "5 2006-06-27 20:38:00  [{'id': 7, 'name': 'Funny', 'count': 1102}, {'...   \n",
       "\n",
       "                                       related_talks  \\\n",
       "0  [{'id': 865, 'hero': 'https://pe.tedcdn.com/im...   \n",
       "1  [{'id': 243, 'hero': 'https://pe.tedcdn.com/im...   \n",
       "1  [{'id': 243, 'hero': 'https://pe.tedcdn.com/im...   \n",
       "1  [{'id': 243, 'hero': 'https://pe.tedcdn.com/im...   \n",
       "1  [{'id': 243, 'hero': 'https://pe.tedcdn.com/im...   \n",
       "2  [{'id': 1725, 'hero': 'https://pe.tedcdn.com/i...   \n",
       "2  [{'id': 1725, 'hero': 'https://pe.tedcdn.com/i...   \n",
       "3  [{'id': 1041, 'hero': 'https://pe.tedcdn.com/i...   \n",
       "4  [{'id': 2056, 'hero': 'https://pe.tedcdn.com/i...   \n",
       "5  [{'id': 229, 'hero': 'https://pe.tedcdn.com/im...   \n",
       "\n",
       "                            speaker_occupation  \\\n",
       "0                              Author/educator   \n",
       "1                             Climate advocate   \n",
       "1                             Climate advocate   \n",
       "1                             Climate advocate   \n",
       "1                             Climate advocate   \n",
       "2                         Technology columnist   \n",
       "2                         Technology columnist   \n",
       "3           Activist for environmental justice   \n",
       "4         Global health expert; data visionary   \n",
       "5  Life coach; expert in leadership psychology   \n",
       "\n",
       "                             title  \\\n",
       "0      Do schools kill creativity?   \n",
       "1      Averting the climate crisis   \n",
       "1      Averting the climate crisis   \n",
       "1      Averting the climate crisis   \n",
       "1      Averting the climate crisis   \n",
       "2                 Simplicity sells   \n",
       "2                 Simplicity sells   \n",
       "3              Greening the ghetto   \n",
       "4  The best stats you've ever seen   \n",
       "5             Why we do what we do   \n",
       "\n",
       "                                                 url     views          theme  \\\n",
       "0  https://www.ted.com/talks/ken_robinson_says_sc...  47227110        culture   \n",
       "1  https://www.ted.com/talks/al_gore_on_averting_...   3200520        culture   \n",
       "1  https://www.ted.com/talks/al_gore_on_averting_...   3200520  global issues   \n",
       "1  https://www.ted.com/talks/al_gore_on_averting_...   3200520        science   \n",
       "1  https://www.ted.com/talks/al_gore_on_averting_...   3200520     technology   \n",
       "2  https://www.ted.com/talks/david_pogue_says_sim...   1636292  entertainment   \n",
       "2  https://www.ted.com/talks/david_pogue_says_sim...   1636292     technology   \n",
       "3  https://www.ted.com/talks/majora_carter_s_tale...   1697550       business   \n",
       "4  https://www.ted.com/talks/hans_rosling_shows_t...  12005869  global issues   \n",
       "5  https://www.ted.com/talks/tony_robbins_asks_wh...  20685401       business   \n",
       "\n",
       "        date     y  \n",
       "0 2006-02-25  2006  \n",
       "1 2006-02-25  2006  \n",
       "1 2006-02-25  2006  \n",
       "1 2006-02-25  2006  \n",
       "1 2006-02-25  2006  \n",
       "2 2006-02-24  2006  \n",
       "2 2006-02-24  2006  \n",
       "3 2006-02-26  2006  \n",
       "4 2006-02-22  2006  \n",
       "5 2006-02-02  2006  "
      ]
     },
     "execution_count": 225,
     "metadata": {},
     "output_type": "execute_result"
    }
   ],
   "source": [
    "from datetime import datetime\n",
    "\n",
    "pop_theme_talks = theme_df[(theme_df['theme'].isin(popular_themes.head(8)['theme'])) & (theme_df['theme'] != 'TEDx')]\n",
    "pop_theme_talks['date']  = pd.to_datetime(pop_theme_talks['film_date'], unit='s')\n",
    "pop_theme_talks['y'] = pop_theme_talks['date'].dt.year\n",
    "pop_theme_talks.head(10)"
   ]
  },
  {
   "cell_type": "code",
   "execution_count": 226,
   "metadata": {},
   "outputs": [],
   "source": [
    "pop_theme_talks['y'] = pop_theme_talks['y'].astype('int')\n",
    "pop_theme_talks = pop_theme_talks[pop_theme_talks['y'] > 2008]\n",
    "#print(pop_theme_talks)"
   ]
  },
  {
   "cell_type": "code",
   "execution_count": 227,
   "metadata": {},
   "outputs": [
    {
     "data": {
      "image/png": "[encoded data removed]",
      "text/plain": [
       "<Figure size 864x576 with 1 Axes>"
      ]
     },
     "metadata": {},
     "output_type": "display_data"
    }
   ],
   "source": [
    "themes = list(popular_themes.head(8)['theme'])\n",
    "themes.remove('TEDx')\n",
    "ctab = pd.crosstab([pop_theme_talks['y']], pop_theme_talks['theme']).apply(lambda x: x/x.sum(), axis=1)\n",
    "ctab[themes].plot(kind='bar', stacked=True, colormap='rainbow', figsize=(12,8)).legend(loc='center left', bbox_to_anchor=(1, 0.5))\n",
    "plt.show()"
   ]
  },
  {
   "cell_type": "code",
   "execution_count": 228,
   "metadata": {},
   "outputs": [
    {
     "data": {
      "image/png": "[encoded data removed]",
      "text/plain": [
       "<Figure size 864x576 with 1 Axes>"
      ]
     },
     "metadata": {},
     "output_type": "display_data"
    }
   ],
   "source": [
    "ctab[themes].plot(kind='line', stacked=False, colormap='rainbow', figsize=(12,8)).legend(loc='center left', bbox_to_anchor=(1, 0.5))\n",
    "plt.show()"
   ]
  },
  {
   "cell_type": "markdown",
   "metadata": {},
   "source": [
    "### Which talks tend to attract the largest amount of discussion?\n",
    "\n",
    "* We will define a new feature discussion quotient, this is simply the ratio of the number of comments to the number of views.\n",
    "* We will also check which talks have the TOP 20 Talks,with the highest discussion quotient."
   ]
  },
  {
   "cell_type": "code",
   "execution_count": 229,
   "metadata": {},
   "outputs": [],
   "source": [
    "df['disc_quot'] = df['comments']/df['views'] #creating a new df column with the existing df columns. diving the comments with views."
   ]
  },
  {
   "cell_type": "code",
   "execution_count": 230,
   "metadata": {},
   "outputs": [
    {
     "data": {
      "text/html": [
       "<div>\n",
       "<style scoped>\n",
       "    .dataframe tbody tr th:only-of-type {\n",
       "        vertical-align: middle;\n",
       "    }\n",
       "\n",
       "    .dataframe tbody tr th {\n",
       "        vertical-align: top;\n",
       "    }\n",
       "\n",
       "    .dataframe thead th {\n",
       "        text-align: right;\n",
       "    }\n",
       "</style>\n",
       "<table border=\"1\" class=\"dataframe\">\n",
       "  <thead>\n",
       "    <tr style=\"text-align: right;\">\n",
       "      <th></th>\n",
       "      <th>title</th>\n",
       "      <th>main_speaker</th>\n",
       "      <th>disc_quot</th>\n",
       "      <th>views</th>\n",
       "      <th>comments</th>\n",
       "      <th>film_date</th>\n",
       "    </tr>\n",
       "  </thead>\n",
       "  <tbody>\n",
       "    <tr>\n",
       "      <th>744</th>\n",
       "      <td>The case for same-sex marriage</td>\n",
       "      <td>Diane J. Savino</td>\n",
       "      <td>0.002220</td>\n",
       "      <td>292395</td>\n",
       "      <td>649</td>\n",
       "      <td>2009-12-02</td>\n",
       "    </tr>\n",
       "    <tr>\n",
       "      <th>803</th>\n",
       "      <td>E-voting without fraud</td>\n",
       "      <td>David Bismark</td>\n",
       "      <td>0.001534</td>\n",
       "      <td>543551</td>\n",
       "      <td>834</td>\n",
       "      <td>2010-07-14</td>\n",
       "    </tr>\n",
       "    <tr>\n",
       "      <th>96</th>\n",
       "      <td>Militant atheism</td>\n",
       "      <td>Richard Dawkins</td>\n",
       "      <td>0.001464</td>\n",
       "      <td>4374792</td>\n",
       "      <td>6404</td>\n",
       "      <td>2002-02-02</td>\n",
       "    </tr>\n",
       "    <tr>\n",
       "      <th>694</th>\n",
       "      <td>Inside a school for suicide bombers</td>\n",
       "      <td>Sharmeen Obaid-Chinoy</td>\n",
       "      <td>0.001421</td>\n",
       "      <td>1057238</td>\n",
       "      <td>1502</td>\n",
       "      <td>2010-02-10</td>\n",
       "    </tr>\n",
       "    <tr>\n",
       "      <th>954</th>\n",
       "      <td>Taking imagination seriously</td>\n",
       "      <td>Janet Echelman</td>\n",
       "      <td>0.001360</td>\n",
       "      <td>1832930</td>\n",
       "      <td>2492</td>\n",
       "      <td>2011-03-03</td>\n",
       "    </tr>\n",
       "    <tr>\n",
       "      <th>840</th>\n",
       "      <td>On reading the Koran</td>\n",
       "      <td>Lesley Hazleton</td>\n",
       "      <td>0.001285</td>\n",
       "      <td>1847256</td>\n",
       "      <td>2374</td>\n",
       "      <td>2010-10-10</td>\n",
       "    </tr>\n",
       "    <tr>\n",
       "      <th>876</th>\n",
       "      <td>Curating humanity's heritage</td>\n",
       "      <td>Elizabeth Lindsey</td>\n",
       "      <td>0.001264</td>\n",
       "      <td>439180</td>\n",
       "      <td>555</td>\n",
       "      <td>2010-12-08</td>\n",
       "    </tr>\n",
       "    <tr>\n",
       "      <th>1787</th>\n",
       "      <td>How do you explain consciousness?</td>\n",
       "      <td>David Chalmers</td>\n",
       "      <td>0.001236</td>\n",
       "      <td>2162764</td>\n",
       "      <td>2673</td>\n",
       "      <td>2014-03-18</td>\n",
       "    </tr>\n",
       "    <tr>\n",
       "      <th>661</th>\n",
       "      <td>The danger of science denial</td>\n",
       "      <td>Michael Specter</td>\n",
       "      <td>0.001236</td>\n",
       "      <td>1838628</td>\n",
       "      <td>2272</td>\n",
       "      <td>2010-02-11</td>\n",
       "    </tr>\n",
       "    <tr>\n",
       "      <th>561</th>\n",
       "      <td>Dance to change the world</td>\n",
       "      <td>Mallika Sarabhai</td>\n",
       "      <td>0.001235</td>\n",
       "      <td>481834</td>\n",
       "      <td>595</td>\n",
       "      <td>2009-11-04</td>\n",
       "    </tr>\n",
       "    <tr>\n",
       "      <th>1250</th>\n",
       "      <td>A new way to stop identity theft</td>\n",
       "      <td>David Birch</td>\n",
       "      <td>0.001193</td>\n",
       "      <td>174326</td>\n",
       "      <td>208</td>\n",
       "      <td>2012-04-27</td>\n",
       "    </tr>\n",
       "    <tr>\n",
       "      <th>443</th>\n",
       "      <td>What comes after An Inconvenient Truth?</td>\n",
       "      <td>Al Gore</td>\n",
       "      <td>0.001091</td>\n",
       "      <td>775430</td>\n",
       "      <td>846</td>\n",
       "      <td>2009-02-06</td>\n",
       "    </tr>\n",
       "    <tr>\n",
       "      <th>732</th>\n",
       "      <td>Superheroes inspired by Islam</td>\n",
       "      <td>Naif Al-Mutawa</td>\n",
       "      <td>0.000981</td>\n",
       "      <td>819361</td>\n",
       "      <td>804</td>\n",
       "      <td>2010-07-13</td>\n",
       "    </tr>\n",
       "    <tr>\n",
       "      <th>1148</th>\n",
       "      <td>The true cost of oil</td>\n",
       "      <td>Garth Lenz</td>\n",
       "      <td>0.000978</td>\n",
       "      <td>792779</td>\n",
       "      <td>775</td>\n",
       "      <td>2011-11-19</td>\n",
       "    </tr>\n",
       "    <tr>\n",
       "      <th>644</th>\n",
       "      <td>Science can answer moral questions</td>\n",
       "      <td>Sam Harris</td>\n",
       "      <td>0.000977</td>\n",
       "      <td>3433437</td>\n",
       "      <td>3356</td>\n",
       "      <td>2010-02-11</td>\n",
       "    </tr>\n",
       "    <tr>\n",
       "      <th>829</th>\n",
       "      <td>New data on the rise of women</td>\n",
       "      <td>Hanna Rosin</td>\n",
       "      <td>0.000976</td>\n",
       "      <td>851862</td>\n",
       "      <td>831</td>\n",
       "      <td>2010-12-07</td>\n",
       "    </tr>\n",
       "    <tr>\n",
       "      <th>95</th>\n",
       "      <td>Why would God create a tsunami?</td>\n",
       "      <td>Tom Honey</td>\n",
       "      <td>0.000954</td>\n",
       "      <td>616385</td>\n",
       "      <td>588</td>\n",
       "      <td>2005-02-02</td>\n",
       "    </tr>\n",
       "    <tr>\n",
       "      <th>1198</th>\n",
       "      <td>\"Put the financial aid in the bag\"</td>\n",
       "      <td>Carvens Lissaint</td>\n",
       "      <td>0.000939</td>\n",
       "      <td>186308</td>\n",
       "      <td>175</td>\n",
       "      <td>2011-11-11</td>\n",
       "    </tr>\n",
       "    <tr>\n",
       "      <th>969</th>\n",
       "      <td>A civil response to violence</td>\n",
       "      <td>Emiliano Salinas</td>\n",
       "      <td>0.000896</td>\n",
       "      <td>525446</td>\n",
       "      <td>471</td>\n",
       "      <td>2010-11-01</td>\n",
       "    </tr>\n",
       "    <tr>\n",
       "      <th>786</th>\n",
       "      <td>The roots of plant intelligence</td>\n",
       "      <td>Stefano Mancuso</td>\n",
       "      <td>0.000887</td>\n",
       "      <td>1075196</td>\n",
       "      <td>954</td>\n",
       "      <td>2010-07-15</td>\n",
       "    </tr>\n",
       "  </tbody>\n",
       "</table>\n",
       "</div>"
      ],
      "text/plain": [
       "                                        title           main_speaker  \\\n",
       "744            The case for same-sex marriage        Diane J. Savino   \n",
       "803                    E-voting without fraud          David Bismark   \n",
       "96                           Militant atheism        Richard Dawkins   \n",
       "694       Inside a school for suicide bombers  Sharmeen Obaid-Chinoy   \n",
       "954              Taking imagination seriously         Janet Echelman   \n",
       "840                      On reading the Koran        Lesley Hazleton   \n",
       "876              Curating humanity's heritage      Elizabeth Lindsey   \n",
       "1787        How do you explain consciousness?         David Chalmers   \n",
       "661              The danger of science denial        Michael Specter   \n",
       "561                 Dance to change the world       Mallika Sarabhai   \n",
       "1250         A new way to stop identity theft            David Birch   \n",
       "443   What comes after An Inconvenient Truth?                Al Gore   \n",
       "732             Superheroes inspired by Islam         Naif Al-Mutawa   \n",
       "1148                     The true cost of oil             Garth Lenz   \n",
       "644        Science can answer moral questions             Sam Harris   \n",
       "829             New data on the rise of women            Hanna Rosin   \n",
       "95            Why would God create a tsunami?              Tom Honey   \n",
       "1198       \"Put the financial aid in the bag\"       Carvens Lissaint   \n",
       "969              A civil response to violence       Emiliano Salinas   \n",
       "786           The roots of plant intelligence        Stefano Mancuso   \n",
       "\n",
       "      disc_quot    views  comments  film_date  \n",
       "744    0.002220   292395       649 2009-12-02  \n",
       "803    0.001534   543551       834 2010-07-14  \n",
       "96     0.001464  4374792      6404 2002-02-02  \n",
       "694    0.001421  1057238      1502 2010-02-10  \n",
       "954    0.001360  1832930      2492 2011-03-03  \n",
       "840    0.001285  1847256      2374 2010-10-10  \n",
       "876    0.001264   439180       555 2010-12-08  \n",
       "1787   0.001236  2162764      2673 2014-03-18  \n",
       "661    0.001236  1838628      2272 2010-02-11  \n",
       "561    0.001235   481834       595 2009-11-04  \n",
       "1250   0.001193   174326       208 2012-04-27  \n",
       "443    0.001091   775430       846 2009-02-06  \n",
       "732    0.000981   819361       804 2010-07-13  \n",
       "1148   0.000978   792779       775 2011-11-19  \n",
       "644    0.000977  3433437      3356 2010-02-11  \n",
       "829    0.000976   851862       831 2010-12-07  \n",
       "95     0.000954   616385       588 2005-02-02  \n",
       "1198   0.000939   186308       175 2011-11-11  \n",
       "969    0.000896   525446       471 2010-11-01  \n",
       "786    0.000887  1075196       954 2010-07-15  "
      ]
     },
     "execution_count": 230,
     "metadata": {},
     "output_type": "execute_result"
    }
   ],
   "source": [
    "discussion_quotient = df[['title', 'main_speaker','disc_quot','views', 'comments', 'film_date']].sort_values('disc_quot', ascending=False).head(20) #this will give us the discussion quotietn in descending order.\n",
    "discussion_quotient"
   ]
  },
  {
   "cell_type": "markdown",
   "metadata": {},
   "source": [
    "* From the discussion_qoutient we gain that the most discussed TED talk is The Case for Same-Sex Marriage.\n",
    "* We have gained extremely interesting insights from this analysis. \n",
    "* More than half of the talks in our TOP 20 are on the faith and religion. \n",
    "* From the observations it can be seen that science and religion are still the hot debated topics in the 21st century. "
   ]
  },
  {
   "cell_type": "code",
   "execution_count": 231,
   "metadata": {},
   "outputs": [
    {
     "data": {
      "text/plain": [
       "count    2550.000000\n",
       "mean       13.775170\n",
       "std         6.233486\n",
       "min         2.250000\n",
       "25%         9.616667\n",
       "50%        14.133333\n",
       "75%        17.445833\n",
       "max        87.600000\n",
       "Name: duration, dtype: float64"
      ]
     },
     "execution_count": 231,
     "metadata": {},
     "output_type": "execute_result"
    }
   ],
   "source": [
    "df['duration'].describe()"
   ]
  },
  {
   "cell_type": "markdown",
   "metadata": {},
   "source": [
    "From the above statistics we can observe that the smallest talk is just of 2.25 minutes and the largest talk is of 87 minutes. "
   ]
  },
  {
   "cell_type": "markdown",
   "metadata": {},
   "source": [
    "As shown in the begining, we have two data sets for the ted talks; the first one is for ted talk statistics and the other is for the talk content in textual format. \n",
    "For our futher analysis, we will merge both our data sets."
   ]
  },
  {
   "cell_type": "code",
   "execution_count": 232,
   "metadata": {},
   "outputs": [
    {
     "data": {
      "text/html": [
       "<div>\n",
       "<style scoped>\n",
       "    .dataframe tbody tr th:only-of-type {\n",
       "        vertical-align: middle;\n",
       "    }\n",
       "\n",
       "    .dataframe tbody tr th {\n",
       "        vertical-align: top;\n",
       "    }\n",
       "\n",
       "    .dataframe thead th {\n",
       "        text-align: right;\n",
       "    }\n",
       "</style>\n",
       "<table border=\"1\" class=\"dataframe\">\n",
       "  <thead>\n",
       "    <tr style=\"text-align: right;\">\n",
       "      <th></th>\n",
       "      <th>comments</th>\n",
       "      <th>description</th>\n",
       "      <th>duration</th>\n",
       "      <th>event</th>\n",
       "      <th>film_date</th>\n",
       "      <th>languages</th>\n",
       "      <th>main_speaker</th>\n",
       "      <th>name</th>\n",
       "      <th>num_speaker</th>\n",
       "      <th>published_date</th>\n",
       "      <th>ratings</th>\n",
       "      <th>related_talks</th>\n",
       "      <th>speaker_occupation</th>\n",
       "      <th>tags</th>\n",
       "      <th>title</th>\n",
       "      <th>url</th>\n",
       "      <th>views</th>\n",
       "      <th>disc_quot</th>\n",
       "      <th>transcript</th>\n",
       "    </tr>\n",
       "  </thead>\n",
       "  <tbody>\n",
       "    <tr>\n",
       "      <th>0</th>\n",
       "      <td>4553</td>\n",
       "      <td>Sir Ken Robinson makes an entertaining and pro...</td>\n",
       "      <td>19.400000</td>\n",
       "      <td>TED2006</td>\n",
       "      <td>2006-02-25</td>\n",
       "      <td>60</td>\n",
       "      <td>Ken Robinson</td>\n",
       "      <td>Ken Robinson: Do schools kill creativity?</td>\n",
       "      <td>1</td>\n",
       "      <td>2006-06-27 00:11:00</td>\n",
       "      <td>[{'id': 7, 'name': 'Funny', 'count': 19645}, {...</td>\n",
       "      <td>[{'id': 865, 'hero': 'https://pe.tedcdn.com/im...</td>\n",
       "      <td>Author/educator</td>\n",
       "      <td>[children, creativity, culture, dance, educati...</td>\n",
       "      <td>Do schools kill creativity?</td>\n",
       "      <td>https://www.ted.com/talks/ken_robinson_says_sc...</td>\n",
       "      <td>47227110</td>\n",
       "      <td>0.000096</td>\n",
       "      <td>Good morning. How are you?(Laughter)It's been ...</td>\n",
       "    </tr>\n",
       "    <tr>\n",
       "      <th>1</th>\n",
       "      <td>265</td>\n",
       "      <td>With the same humor and humanity he exuded in ...</td>\n",
       "      <td>16.283333</td>\n",
       "      <td>TED2006</td>\n",
       "      <td>2006-02-25</td>\n",
       "      <td>43</td>\n",
       "      <td>Al Gore</td>\n",
       "      <td>Al Gore: Averting the climate crisis</td>\n",
       "      <td>1</td>\n",
       "      <td>2006-06-27 00:11:00</td>\n",
       "      <td>[{'id': 7, 'name': 'Funny', 'count': 544}, {'i...</td>\n",
       "      <td>[{'id': 243, 'hero': 'https://pe.tedcdn.com/im...</td>\n",
       "      <td>Climate advocate</td>\n",
       "      <td>[alternative energy, cars, climate change, cul...</td>\n",
       "      <td>Averting the climate crisis</td>\n",
       "      <td>https://www.ted.com/talks/al_gore_on_averting_...</td>\n",
       "      <td>3200520</td>\n",
       "      <td>0.000083</td>\n",
       "      <td>Thank you so much, Chris. And it's truly a gre...</td>\n",
       "    </tr>\n",
       "    <tr>\n",
       "      <th>2</th>\n",
       "      <td>124</td>\n",
       "      <td>New York Times columnist David Pogue takes aim...</td>\n",
       "      <td>21.433333</td>\n",
       "      <td>TED2006</td>\n",
       "      <td>2006-02-24</td>\n",
       "      <td>26</td>\n",
       "      <td>David Pogue</td>\n",
       "      <td>David Pogue: Simplicity sells</td>\n",
       "      <td>1</td>\n",
       "      <td>2006-06-27 00:11:00</td>\n",
       "      <td>[{'id': 7, 'name': 'Funny', 'count': 964}, {'i...</td>\n",
       "      <td>[{'id': 1725, 'hero': 'https://pe.tedcdn.com/i...</td>\n",
       "      <td>Technology columnist</td>\n",
       "      <td>[computers, entertainment, interface design, m...</td>\n",
       "      <td>Simplicity sells</td>\n",
       "      <td>https://www.ted.com/talks/david_pogue_says_sim...</td>\n",
       "      <td>1636292</td>\n",
       "      <td>0.000076</td>\n",
       "      <td>(Music: \"The Sound of Silence,\" Simon &amp; Garfun...</td>\n",
       "    </tr>\n",
       "    <tr>\n",
       "      <th>3</th>\n",
       "      <td>200</td>\n",
       "      <td>In an emotionally charged talk, MacArthur-winn...</td>\n",
       "      <td>18.600000</td>\n",
       "      <td>TED2006</td>\n",
       "      <td>2006-02-26</td>\n",
       "      <td>35</td>\n",
       "      <td>Majora Carter</td>\n",
       "      <td>Majora Carter: Greening the ghetto</td>\n",
       "      <td>1</td>\n",
       "      <td>2006-06-27 00:11:00</td>\n",
       "      <td>[{'id': 3, 'name': 'Courageous', 'count': 760}...</td>\n",
       "      <td>[{'id': 1041, 'hero': 'https://pe.tedcdn.com/i...</td>\n",
       "      <td>Activist for environmental justice</td>\n",
       "      <td>[MacArthur grant, activism, business, cities, ...</td>\n",
       "      <td>Greening the ghetto</td>\n",
       "      <td>https://www.ted.com/talks/majora_carter_s_tale...</td>\n",
       "      <td>1697550</td>\n",
       "      <td>0.000118</td>\n",
       "      <td>If you're here today — and I'm very happy that...</td>\n",
       "    </tr>\n",
       "    <tr>\n",
       "      <th>4</th>\n",
       "      <td>593</td>\n",
       "      <td>You've never seen data presented like this. Wi...</td>\n",
       "      <td>19.833333</td>\n",
       "      <td>TED2006</td>\n",
       "      <td>2006-02-22</td>\n",
       "      <td>48</td>\n",
       "      <td>Hans Rosling</td>\n",
       "      <td>Hans Rosling: The best stats you've ever seen</td>\n",
       "      <td>1</td>\n",
       "      <td>2006-06-27 20:38:00</td>\n",
       "      <td>[{'id': 9, 'name': 'Ingenious', 'count': 3202}...</td>\n",
       "      <td>[{'id': 2056, 'hero': 'https://pe.tedcdn.com/i...</td>\n",
       "      <td>Global health expert; data visionary</td>\n",
       "      <td>[Africa, Asia, Google, demo, economics, global...</td>\n",
       "      <td>The best stats you've ever seen</td>\n",
       "      <td>https://www.ted.com/talks/hans_rosling_shows_t...</td>\n",
       "      <td>12005869</td>\n",
       "      <td>0.000049</td>\n",
       "      <td>About 10 years ago, I took on the task to teac...</td>\n",
       "    </tr>\n",
       "  </tbody>\n",
       "</table>\n",
       "</div>"
      ],
      "text/plain": [
       "   comments                                        description   duration  \\\n",
       "0      4553  Sir Ken Robinson makes an entertaining and pro...  19.400000   \n",
       "1       265  With the same humor and humanity he exuded in ...  16.283333   \n",
       "2       124  New York Times columnist David Pogue takes aim...  21.433333   \n",
       "3       200  In an emotionally charged talk, MacArthur-winn...  18.600000   \n",
       "4       593  You've never seen data presented like this. Wi...  19.833333   \n",
       "\n",
       "     event  film_date  languages   main_speaker  \\\n",
       "0  TED2006 2006-02-25         60   Ken Robinson   \n",
       "1  TED2006 2006-02-25         43        Al Gore   \n",
       "2  TED2006 2006-02-24         26    David Pogue   \n",
       "3  TED2006 2006-02-26         35  Majora Carter   \n",
       "4  TED2006 2006-02-22         48   Hans Rosling   \n",
       "\n",
       "                                            name  num_speaker  \\\n",
       "0      Ken Robinson: Do schools kill creativity?            1   \n",
       "1           Al Gore: Averting the climate crisis            1   \n",
       "2                  David Pogue: Simplicity sells            1   \n",
       "3             Majora Carter: Greening the ghetto            1   \n",
       "4  Hans Rosling: The best stats you've ever seen            1   \n",
       "\n",
       "       published_date                                            ratings  \\\n",
       "0 2006-06-27 00:11:00  [{'id': 7, 'name': 'Funny', 'count': 19645}, {...   \n",
       "1 2006-06-27 00:11:00  [{'id': 7, 'name': 'Funny', 'count': 544}, {'i...   \n",
       "2 2006-06-27 00:11:00  [{'id': 7, 'name': 'Funny', 'count': 964}, {'i...   \n",
       "3 2006-06-27 00:11:00  [{'id': 3, 'name': 'Courageous', 'count': 760}...   \n",
       "4 2006-06-27 20:38:00  [{'id': 9, 'name': 'Ingenious', 'count': 3202}...   \n",
       "\n",
       "                                       related_talks  \\\n",
       "0  [{'id': 865, 'hero': 'https://pe.tedcdn.com/im...   \n",
       "1  [{'id': 243, 'hero': 'https://pe.tedcdn.com/im...   \n",
       "2  [{'id': 1725, 'hero': 'https://pe.tedcdn.com/i...   \n",
       "3  [{'id': 1041, 'hero': 'https://pe.tedcdn.com/i...   \n",
       "4  [{'id': 2056, 'hero': 'https://pe.tedcdn.com/i...   \n",
       "\n",
       "                     speaker_occupation  \\\n",
       "0                       Author/educator   \n",
       "1                      Climate advocate   \n",
       "2                  Technology columnist   \n",
       "3    Activist for environmental justice   \n",
       "4  Global health expert; data visionary   \n",
       "\n",
       "                                                tags  \\\n",
       "0  [children, creativity, culture, dance, educati...   \n",
       "1  [alternative energy, cars, climate change, cul...   \n",
       "2  [computers, entertainment, interface design, m...   \n",
       "3  [MacArthur grant, activism, business, cities, ...   \n",
       "4  [Africa, Asia, Google, demo, economics, global...   \n",
       "\n",
       "                             title  \\\n",
       "0      Do schools kill creativity?   \n",
       "1      Averting the climate crisis   \n",
       "2                 Simplicity sells   \n",
       "3              Greening the ghetto   \n",
       "4  The best stats you've ever seen   \n",
       "\n",
       "                                                 url     views  disc_quot  \\\n",
       "0  https://www.ted.com/talks/ken_robinson_says_sc...  47227110   0.000096   \n",
       "1  https://www.ted.com/talks/al_gore_on_averting_...   3200520   0.000083   \n",
       "2  https://www.ted.com/talks/david_pogue_says_sim...   1636292   0.000076   \n",
       "3  https://www.ted.com/talks/majora_carter_s_tale...   1697550   0.000118   \n",
       "4  https://www.ted.com/talks/hans_rosling_shows_t...  12005869   0.000049   \n",
       "\n",
       "                                          transcript  \n",
       "0  Good morning. How are you?(Laughter)It's been ...  \n",
       "1  Thank you so much, Chris. And it's truly a gre...  \n",
       "2  (Music: \"The Sound of Silence,\" Simon & Garfun...  \n",
       "3  If you're here today — and I'm very happy that...  \n",
       "4  About 10 years ago, I took on the task to teac...  "
      ]
     },
     "execution_count": 232,
     "metadata": {},
     "output_type": "execute_result"
    }
   ],
   "source": [
    "df2 = pd.merge(df, df1, on='url')\n",
    "df2.head()"
   ]
  },
  {
   "cell_type": "code",
   "execution_count": 233,
   "metadata": {},
   "outputs": [],
   "source": [
    "df2['wc'] = df2['transcript'].apply(lambda x: len(x.split()))"
   ]
  },
  {
   "cell_type": "code",
   "execution_count": 234,
   "metadata": {},
   "outputs": [
    {
     "data": {
      "text/plain": [
       "count    2467.000000\n",
       "mean     2040.279287\n",
       "std       956.209248\n",
       "min         1.000000\n",
       "25%      1332.500000\n",
       "50%      2028.000000\n",
       "75%      2707.000000\n",
       "max      9044.000000\n",
       "Name: wc, dtype: float64"
      ]
     },
     "execution_count": 234,
     "metadata": {},
     "output_type": "execute_result"
    }
   ],
   "source": [
    "df2['wc'].describe()\n"
   ]
  },
  {
   "cell_type": "markdown",
   "metadata": {},
   "source": [
    "# Statistical Analysis and Machine Learning"
   ]
  },
  {
   "cell_type": "markdown",
   "metadata": {},
   "source": [
    "Firstly, we have found the correlation among variables for our data.\n",
    "Let us find the correlation in our different variables. Also we will apply linear multiple regression to predict the number of views a video will get based on different parameteers affecting a video."
   ]
  },
  {
   "cell_type": "code",
   "execution_count": 235,
   "metadata": {},
   "outputs": [
    {
     "data": {
      "image/png": "[encoded data removed]",
      "text/plain": [
       "<Figure size 432x288 with 2 Axes>"
      ]
     },
     "metadata": {},
     "output_type": "display_data"
    }
   ],
   "source": [
    "df.corr()\n",
    "x=df.corr()\n",
    "x = sb.heatmap(\n",
    "    x, \n",
    "    vmin=-1, vmax=1, center=0,\n",
    "    cmap=sb.diverging_palette(20, 220, n=200),\n",
    "    square=True)\n",
    "\n"
   ]
  },
  {
   "cell_type": "markdown",
   "metadata": {},
   "source": [
    "Below is the pairs matrix which will give correlation among all variables with each other."
   ]
  },
  {
   "cell_type": "code",
   "execution_count": 236,
   "metadata": {},
   "outputs": [
    {
     "data": {
      "text/plain": [
       "<seaborn.axisgrid.PairGrid at 0x2d6bea32198>"
      ]
     },
     "execution_count": 236,
     "metadata": {},
     "output_type": "execute_result"
    },
    {
     "data": {
      "image/png": "[encoded data removed]",
      "text/plain": [
       "<Figure size 1080x1080 with 42 Axes>"
      ]
     },
     "metadata": {},
     "output_type": "display_data"
    }
   ],
   "source": [
    "sns.pairplot(df)"
   ]
  },
  {
   "cell_type": "markdown",
   "metadata": {},
   "source": [
    "From above, we could see that a good correlation among views and comments is seen. We will analyze views and comments and then go ahead with linear model for these variables."
   ]
  },
  {
   "cell_type": "markdown",
   "metadata": {},
   "source": [
    "### Analysis on VIEWS.\n"
   ]
  },
  {
   "cell_type": "markdown",
   "metadata": {},
   "source": [
    "### TOP 20\n",
    "\n",
    "#### There are times when we are interested in knowing the top viewed TED Talks.\n",
    "#### Let us arrange the table in Ascending order of the number of views so that we can see the TOP 20 viewed content first."
   ]
  },
  {
   "cell_type": "code",
   "execution_count": 237,
   "metadata": {},
   "outputs": [
    {
     "data": {
      "text/html": [
       "<div>\n",
       "<style scoped>\n",
       "    .dataframe tbody tr th:only-of-type {\n",
       "        vertical-align: middle;\n",
       "    }\n",
       "\n",
       "    .dataframe tbody tr th {\n",
       "        vertical-align: top;\n",
       "    }\n",
       "\n",
       "    .dataframe thead th {\n",
       "        text-align: right;\n",
       "    }\n",
       "</style>\n",
       "<table border=\"1\" class=\"dataframe\">\n",
       "  <thead>\n",
       "    <tr style=\"text-align: right;\">\n",
       "      <th></th>\n",
       "      <th>main_speaker</th>\n",
       "      <th>views</th>\n",
       "      <th>title</th>\n",
       "      <th>film_date</th>\n",
       "      <th>url</th>\n",
       "    </tr>\n",
       "  </thead>\n",
       "  <tbody>\n",
       "    <tr>\n",
       "      <th>0</th>\n",
       "      <td>Ken Robinson</td>\n",
       "      <td>47227110</td>\n",
       "      <td>Do schools kill creativity?</td>\n",
       "      <td>2006-02-25</td>\n",
       "      <td>https://www.ted.com/talks/ken_robinson_says_sc...</td>\n",
       "    </tr>\n",
       "    <tr>\n",
       "      <th>1346</th>\n",
       "      <td>Amy Cuddy</td>\n",
       "      <td>43155405</td>\n",
       "      <td>Your body language may shape who you are</td>\n",
       "      <td>2012-06-26</td>\n",
       "      <td>https://www.ted.com/talks/amy_cuddy_your_body_...</td>\n",
       "    </tr>\n",
       "    <tr>\n",
       "      <th>677</th>\n",
       "      <td>Simon Sinek</td>\n",
       "      <td>34309432</td>\n",
       "      <td>How great leaders inspire action</td>\n",
       "      <td>2009-09-17</td>\n",
       "      <td>https://www.ted.com/talks/simon_sinek_how_grea...</td>\n",
       "    </tr>\n",
       "    <tr>\n",
       "      <th>837</th>\n",
       "      <td>Brené Brown</td>\n",
       "      <td>31168150</td>\n",
       "      <td>The power of vulnerability</td>\n",
       "      <td>2010-06-06</td>\n",
       "      <td>https://www.ted.com/talks/brene_brown_on_vulne...</td>\n",
       "    </tr>\n",
       "    <tr>\n",
       "      <th>452</th>\n",
       "      <td>Mary Roach</td>\n",
       "      <td>22270883</td>\n",
       "      <td>10 things you didn't know about orgasm</td>\n",
       "      <td>2009-02-06</td>\n",
       "      <td>https://www.ted.com/talks/mary_roach_10_things...</td>\n",
       "    </tr>\n",
       "    <tr>\n",
       "      <th>1776</th>\n",
       "      <td>Julian Treasure</td>\n",
       "      <td>21594632</td>\n",
       "      <td>How to speak so that people want to listen</td>\n",
       "      <td>2013-06-10</td>\n",
       "      <td>https://www.ted.com/talks/julian_treasure_how_...</td>\n",
       "    </tr>\n",
       "    <tr>\n",
       "      <th>201</th>\n",
       "      <td>Jill Bolte Taylor</td>\n",
       "      <td>21190883</td>\n",
       "      <td>My stroke of insight</td>\n",
       "      <td>2008-02-27</td>\n",
       "      <td>https://www.ted.com/talks/jill_bolte_taylor_s_...</td>\n",
       "    </tr>\n",
       "    <tr>\n",
       "      <th>5</th>\n",
       "      <td>Tony Robbins</td>\n",
       "      <td>20685401</td>\n",
       "      <td>Why we do what we do</td>\n",
       "      <td>2006-02-02</td>\n",
       "      <td>https://www.ted.com/talks/tony_robbins_asks_wh...</td>\n",
       "    </tr>\n",
       "    <tr>\n",
       "      <th>2114</th>\n",
       "      <td>James Veitch</td>\n",
       "      <td>20475972</td>\n",
       "      <td>This is what happens when you reply to spam email</td>\n",
       "      <td>2015-12-08</td>\n",
       "      <td>https://www.ted.com/talks/james_veitch_this_is...</td>\n",
       "    </tr>\n",
       "    <tr>\n",
       "      <th>1416</th>\n",
       "      <td>Cameron Russell</td>\n",
       "      <td>19787465</td>\n",
       "      <td>Looks aren't everything. Believe me, I'm a model.</td>\n",
       "      <td>2012-10-27</td>\n",
       "      <td>https://www.ted.com/talks/cameron_russell_look...</td>\n",
       "    </tr>\n",
       "    <tr>\n",
       "      <th>500</th>\n",
       "      <td>Dan Pink</td>\n",
       "      <td>18830983</td>\n",
       "      <td>The puzzle of motivation</td>\n",
       "      <td>2009-07-24</td>\n",
       "      <td>https://www.ted.com/talks/dan_pink_on_motivati...</td>\n",
       "    </tr>\n",
       "    <tr>\n",
       "      <th>1163</th>\n",
       "      <td>Susan Cain</td>\n",
       "      <td>17629275</td>\n",
       "      <td>The power of introverts</td>\n",
       "      <td>2012-02-28</td>\n",
       "      <td>https://www.ted.com/talks/susan_cain_the_power...</td>\n",
       "    </tr>\n",
       "    <tr>\n",
       "      <th>1036</th>\n",
       "      <td>Pamela Meyer</td>\n",
       "      <td>16861578</td>\n",
       "      <td>How to spot a liar</td>\n",
       "      <td>2011-07-13</td>\n",
       "      <td>https://www.ted.com/talks/pamela_meyer_how_to_...</td>\n",
       "    </tr>\n",
       "    <tr>\n",
       "      <th>2109</th>\n",
       "      <td>Robert Waldinger</td>\n",
       "      <td>16601927</td>\n",
       "      <td>What makes a good life? Lessons from the longe...</td>\n",
       "      <td>2015-11-14</td>\n",
       "      <td>https://www.ted.com/talks/robert_waldinger_wha...</td>\n",
       "    </tr>\n",
       "    <tr>\n",
       "      <th>1129</th>\n",
       "      <td>Shawn Achor</td>\n",
       "      <td>16209727</td>\n",
       "      <td>The happy secret to better work</td>\n",
       "      <td>2011-05-11</td>\n",
       "      <td>https://www.ted.com/talks/shawn_achor_the_happ...</td>\n",
       "    </tr>\n",
       "    <tr>\n",
       "      <th>553</th>\n",
       "      <td>Pranav Mistry</td>\n",
       "      <td>16097077</td>\n",
       "      <td>The thrilling potential of SixthSense technology</td>\n",
       "      <td>2009-11-05</td>\n",
       "      <td>https://www.ted.com/talks/pranav_mistry_the_th...</td>\n",
       "    </tr>\n",
       "    <tr>\n",
       "      <th>596</th>\n",
       "      <td>David Blaine</td>\n",
       "      <td>15601385</td>\n",
       "      <td>How I held my breath for 17 minutes</td>\n",
       "      <td>2009-10-27</td>\n",
       "      <td>https://www.ted.com/talks/david_blaine_how_i_h...</td>\n",
       "    </tr>\n",
       "    <tr>\n",
       "      <th>1579</th>\n",
       "      <td>Apollo Robbins</td>\n",
       "      <td>15283242</td>\n",
       "      <td>The art of misdirection</td>\n",
       "      <td>2013-06-12</td>\n",
       "      <td>https://www.ted.com/talks/apollo_robbins_the_a...</td>\n",
       "    </tr>\n",
       "    <tr>\n",
       "      <th>2161</th>\n",
       "      <td>Tim Urban</td>\n",
       "      <td>14745406</td>\n",
       "      <td>Inside the mind of a master procrastinator</td>\n",
       "      <td>2016-02-16</td>\n",
       "      <td>https://www.ted.com/talks/tim_urban_inside_the...</td>\n",
       "    </tr>\n",
       "    <tr>\n",
       "      <th>29</th>\n",
       "      <td>Dan Gilbert</td>\n",
       "      <td>14689301</td>\n",
       "      <td>The surprising science of happiness</td>\n",
       "      <td>2004-02-02</td>\n",
       "      <td>https://www.ted.com/talks/dan_gilbert_asks_why...</td>\n",
       "    </tr>\n",
       "  </tbody>\n",
       "</table>\n",
       "</div>"
      ],
      "text/plain": [
       "           main_speaker     views  \\\n",
       "0          Ken Robinson  47227110   \n",
       "1346          Amy Cuddy  43155405   \n",
       "677         Simon Sinek  34309432   \n",
       "837         Brené Brown  31168150   \n",
       "452          Mary Roach  22270883   \n",
       "1776    Julian Treasure  21594632   \n",
       "201   Jill Bolte Taylor  21190883   \n",
       "5          Tony Robbins  20685401   \n",
       "2114       James Veitch  20475972   \n",
       "1416    Cameron Russell  19787465   \n",
       "500            Dan Pink  18830983   \n",
       "1163         Susan Cain  17629275   \n",
       "1036       Pamela Meyer  16861578   \n",
       "2109   Robert Waldinger  16601927   \n",
       "1129        Shawn Achor  16209727   \n",
       "553       Pranav Mistry  16097077   \n",
       "596        David Blaine  15601385   \n",
       "1579     Apollo Robbins  15283242   \n",
       "2161          Tim Urban  14745406   \n",
       "29          Dan Gilbert  14689301   \n",
       "\n",
       "                                                  title  film_date  \\\n",
       "0                           Do schools kill creativity? 2006-02-25   \n",
       "1346           Your body language may shape who you are 2012-06-26   \n",
       "677                    How great leaders inspire action 2009-09-17   \n",
       "837                          The power of vulnerability 2010-06-06   \n",
       "452              10 things you didn't know about orgasm 2009-02-06   \n",
       "1776         How to speak so that people want to listen 2013-06-10   \n",
       "201                                My stroke of insight 2008-02-27   \n",
       "5                                  Why we do what we do 2006-02-02   \n",
       "2114  This is what happens when you reply to spam email 2015-12-08   \n",
       "1416  Looks aren't everything. Believe me, I'm a model. 2012-10-27   \n",
       "500                            The puzzle of motivation 2009-07-24   \n",
       "1163                            The power of introverts 2012-02-28   \n",
       "1036                                 How to spot a liar 2011-07-13   \n",
       "2109  What makes a good life? Lessons from the longe... 2015-11-14   \n",
       "1129                    The happy secret to better work 2011-05-11   \n",
       "553    The thrilling potential of SixthSense technology 2009-11-05   \n",
       "596                 How I held my breath for 17 minutes 2009-10-27   \n",
       "1579                            The art of misdirection 2013-06-12   \n",
       "2161         Inside the mind of a master procrastinator 2016-02-16   \n",
       "29                  The surprising science of happiness 2004-02-02   \n",
       "\n",
       "                                                    url  \n",
       "0     https://www.ted.com/talks/ken_robinson_says_sc...  \n",
       "1346  https://www.ted.com/talks/amy_cuddy_your_body_...  \n",
       "677   https://www.ted.com/talks/simon_sinek_how_grea...  \n",
       "837   https://www.ted.com/talks/brene_brown_on_vulne...  \n",
       "452   https://www.ted.com/talks/mary_roach_10_things...  \n",
       "1776  https://www.ted.com/talks/julian_treasure_how_...  \n",
       "201   https://www.ted.com/talks/jill_bolte_taylor_s_...  \n",
       "5     https://www.ted.com/talks/tony_robbins_asks_wh...  \n",
       "2114  https://www.ted.com/talks/james_veitch_this_is...  \n",
       "1416  https://www.ted.com/talks/cameron_russell_look...  \n",
       "500   https://www.ted.com/talks/dan_pink_on_motivati...  \n",
       "1163  https://www.ted.com/talks/susan_cain_the_power...  \n",
       "1036  https://www.ted.com/talks/pamela_meyer_how_to_...  \n",
       "2109  https://www.ted.com/talks/robert_waldinger_wha...  \n",
       "1129  https://www.ted.com/talks/shawn_achor_the_happ...  \n",
       "553   https://www.ted.com/talks/pranav_mistry_the_th...  \n",
       "596   https://www.ted.com/talks/david_blaine_how_i_h...  \n",
       "1579  https://www.ted.com/talks/apollo_robbins_the_a...  \n",
       "2161  https://www.ted.com/talks/tim_urban_inside_the...  \n",
       "29    https://www.ted.com/talks/dan_gilbert_asks_why...  "
      ]
     },
     "execution_count": 237,
     "metadata": {},
     "output_type": "execute_result"
    }
   ],
   "source": [
    "most_views = df[['main_speaker','views','title', 'film_date','url']] #these are the columns we want to display.\n",
    "ms = most_views.sort_values('views', ascending=False)[:20] #this will sort in descending order of the views.\n",
    "ms"
   ]
  },
  {
   "cell_type": "markdown",
   "metadata": {},
   "source": [
    "We can observe that Ken Robinson's, Do schools kill creativity? has the highest amount of views- 47.2 million.\n",
    "Amy Cuddy's talk is followed by Robinson's talk with 43.1 million views.\n",
    "40 million mark has crossed only by 2 talks.\n",
    "30 million mark has crossed only by 4 talks."
   ]
  },
  {
   "cell_type": "markdown",
   "metadata": {},
   "source": [
    "#### Let us create a bar plot to visualize the data for the TOP 20 views."
   ]
  },
  {
   "cell_type": "code",
   "execution_count": 238,
   "metadata": {},
   "outputs": [
    {
     "data": {
      "text/plain": [
       "<matplotlib.axes._subplots.AxesSubplot at 0x2d6be815048>"
      ]
     },
     "execution_count": 238,
     "metadata": {},
     "output_type": "execute_result"
    },
    {
     "data": {
      "image/png": "[encoded data removed]",
      "text/plain": [
       "<Figure size 720x432 with 1 Axes>"
      ]
     },
     "metadata": {},
     "output_type": "display_data"
    }
   ],
   "source": [
    "ms['iname'] = ms['main_speaker'].apply(lambda x: x[:3]) #this will take the first 3 initials of the name\n",
    "plt.figure(figsize=(10,6)) #figure size is assigned\n",
    "sns.set_style(\"whitegrid\") #this is the standard style whitegrid for colourful bar plot.\n",
    "sns.barplot(x='iname', y='views', data=ms) #plotting the bar plot"
   ]
  },
  {
   "cell_type": "markdown",
   "metadata": {},
   "source": [
    "#### Let us create a distribution plot to see the distribution based on the views."
   ]
  },
  {
   "cell_type": "code",
   "execution_count": 239,
   "metadata": {},
   "outputs": [
    {
     "data": {
      "image/png": "[encoded data removed]",
      "text/plain": [
       "<Figure size 432x288 with 1 Axes>"
      ]
     },
     "metadata": {},
     "output_type": "display_data"
    }
   ],
   "source": [
    "sns.set_color_codes() #this is used to make the bar plot colourful\n",
    "ax= sns.distplot(df[df['views'] < 0.4e7]['views'],color=\"red\") #this will give the distribution of the views"
   ]
  },
  {
   "cell_type": "markdown",
   "metadata": {},
   "source": [
    "#### It is very useful to know the stats of the number of views just to see how well the TED Talk is doing."
   ]
  },
  {
   "cell_type": "code",
   "execution_count": 240,
   "metadata": {},
   "outputs": [
    {
     "data": {
      "text/plain": [
       "count    2.550000e+03\n",
       "mean     1.698297e+06\n",
       "std      2.498479e+06\n",
       "min      5.044300e+04\n",
       "25%      7.557928e+05\n",
       "50%      1.124524e+06\n",
       "75%      1.700760e+06\n",
       "max      4.722711e+07\n",
       "Name: views, dtype: float64"
      ]
     },
     "execution_count": 240,
     "metadata": {},
     "output_type": "execute_result"
    }
   ],
   "source": [
    "stats = df['views'].describe() #df.describe() is used to get the stats of the data.\n",
    "stats"
   ]
  },
  {
   "cell_type": "markdown",
   "metadata": {},
   "source": [
    "We observe that the AVERAGE number of views on TED Talks is 1.6 million.\n",
    "Also the MEDIAN number of views is 1.12 million, this means that the popularity of the TED Talks is very HIGH.\n",
    "This shows that TED Talks is viewed by a high number of people worldwide."
   ]
  },
  {
   "cell_type": "markdown",
   "metadata": {},
   "source": [
    "### Analysis on COMMENTS.\n",
    "\n",
    "### TOP 20\n",
    "\n",
    "#### There are times when we are interested in knowing the top commented TED Talks.\n",
    "#### Let us arrange the table in Ascending order of the number of views so that we can see the TOP 20 most commented content first."
   ]
  },
  {
   "cell_type": "code",
   "execution_count": 241,
   "metadata": {},
   "outputs": [
    {
     "data": {
      "text/html": [
       "<div>\n",
       "<style scoped>\n",
       "    .dataframe tbody tr th:only-of-type {\n",
       "        vertical-align: middle;\n",
       "    }\n",
       "\n",
       "    .dataframe tbody tr th {\n",
       "        vertical-align: top;\n",
       "    }\n",
       "\n",
       "    .dataframe thead th {\n",
       "        text-align: right;\n",
       "    }\n",
       "</style>\n",
       "<table border=\"1\" class=\"dataframe\">\n",
       "  <thead>\n",
       "    <tr style=\"text-align: right;\">\n",
       "      <th></th>\n",
       "      <th>comments</th>\n",
       "      <th>main_speaker</th>\n",
       "      <th>title</th>\n",
       "      <th>views</th>\n",
       "      <th>film_date</th>\n",
       "    </tr>\n",
       "  </thead>\n",
       "  <tbody>\n",
       "    <tr>\n",
       "      <th>96</th>\n",
       "      <td>6404</td>\n",
       "      <td>Richard Dawkins</td>\n",
       "      <td>Militant atheism</td>\n",
       "      <td>4374792</td>\n",
       "      <td>2002-02-02</td>\n",
       "    </tr>\n",
       "    <tr>\n",
       "      <th>0</th>\n",
       "      <td>4553</td>\n",
       "      <td>Ken Robinson</td>\n",
       "      <td>Do schools kill creativity?</td>\n",
       "      <td>47227110</td>\n",
       "      <td>2006-02-25</td>\n",
       "    </tr>\n",
       "    <tr>\n",
       "      <th>644</th>\n",
       "      <td>3356</td>\n",
       "      <td>Sam Harris</td>\n",
       "      <td>Science can answer moral questions</td>\n",
       "      <td>3433437</td>\n",
       "      <td>2010-02-11</td>\n",
       "    </tr>\n",
       "    <tr>\n",
       "      <th>201</th>\n",
       "      <td>2877</td>\n",
       "      <td>Jill Bolte Taylor</td>\n",
       "      <td>My stroke of insight</td>\n",
       "      <td>21190883</td>\n",
       "      <td>2008-02-27</td>\n",
       "    </tr>\n",
       "    <tr>\n",
       "      <th>1787</th>\n",
       "      <td>2673</td>\n",
       "      <td>David Chalmers</td>\n",
       "      <td>How do you explain consciousness?</td>\n",
       "      <td>2162764</td>\n",
       "      <td>2014-03-18</td>\n",
       "    </tr>\n",
       "    <tr>\n",
       "      <th>954</th>\n",
       "      <td>2492</td>\n",
       "      <td>Janet Echelman</td>\n",
       "      <td>Taking imagination seriously</td>\n",
       "      <td>1832930</td>\n",
       "      <td>2011-03-03</td>\n",
       "    </tr>\n",
       "    <tr>\n",
       "      <th>840</th>\n",
       "      <td>2374</td>\n",
       "      <td>Lesley Hazleton</td>\n",
       "      <td>On reading the Koran</td>\n",
       "      <td>1847256</td>\n",
       "      <td>2010-10-10</td>\n",
       "    </tr>\n",
       "    <tr>\n",
       "      <th>1346</th>\n",
       "      <td>2290</td>\n",
       "      <td>Amy Cuddy</td>\n",
       "      <td>Your body language may shape who you are</td>\n",
       "      <td>43155405</td>\n",
       "      <td>2012-06-26</td>\n",
       "    </tr>\n",
       "    <tr>\n",
       "      <th>661</th>\n",
       "      <td>2272</td>\n",
       "      <td>Michael Specter</td>\n",
       "      <td>The danger of science denial</td>\n",
       "      <td>1838628</td>\n",
       "      <td>2010-02-11</td>\n",
       "    </tr>\n",
       "    <tr>\n",
       "      <th>677</th>\n",
       "      <td>1930</td>\n",
       "      <td>Simon Sinek</td>\n",
       "      <td>How great leaders inspire action</td>\n",
       "      <td>34309432</td>\n",
       "      <td>2009-09-17</td>\n",
       "    </tr>\n",
       "    <tr>\n",
       "      <th>837</th>\n",
       "      <td>1927</td>\n",
       "      <td>Brené Brown</td>\n",
       "      <td>The power of vulnerability</td>\n",
       "      <td>31168150</td>\n",
       "      <td>2010-06-06</td>\n",
       "    </tr>\n",
       "    <tr>\n",
       "      <th>1537</th>\n",
       "      <td>1640</td>\n",
       "      <td>Eric X. Li</td>\n",
       "      <td>A tale of two political systems</td>\n",
       "      <td>2449736</td>\n",
       "      <td>2013-06-12</td>\n",
       "    </tr>\n",
       "    <tr>\n",
       "      <th>1030</th>\n",
       "      <td>1627</td>\n",
       "      <td>Steve Jobs</td>\n",
       "      <td>How to live before you die</td>\n",
       "      <td>8744428</td>\n",
       "      <td>2005-06-12</td>\n",
       "    </tr>\n",
       "    <tr>\n",
       "      <th>381</th>\n",
       "      <td>1604</td>\n",
       "      <td>Elizabeth Gilbert</td>\n",
       "      <td>Your elusive creative genius</td>\n",
       "      <td>13155478</td>\n",
       "      <td>2009-02-05</td>\n",
       "    </tr>\n",
       "    <tr>\n",
       "      <th>1448</th>\n",
       "      <td>1586</td>\n",
       "      <td>Allan Savory</td>\n",
       "      <td>How to fight desertification and reverse clima...</td>\n",
       "      <td>4191678</td>\n",
       "      <td>2013-02-28</td>\n",
       "    </tr>\n",
       "    <tr>\n",
       "      <th>667</th>\n",
       "      <td>1545</td>\n",
       "      <td>James Randi</td>\n",
       "      <td>Homeopathy, quackery and fraud</td>\n",
       "      <td>2611707</td>\n",
       "      <td>2007-02-02</td>\n",
       "    </tr>\n",
       "    <tr>\n",
       "      <th>694</th>\n",
       "      <td>1502</td>\n",
       "      <td>Sharmeen Obaid-Chinoy</td>\n",
       "      <td>Inside a school for suicide bombers</td>\n",
       "      <td>1057238</td>\n",
       "      <td>2010-02-10</td>\n",
       "    </tr>\n",
       "    <tr>\n",
       "      <th>1453</th>\n",
       "      <td>1451</td>\n",
       "      <td>Dan Pallotta</td>\n",
       "      <td>The way we think about charity is dead wrong</td>\n",
       "      <td>4259204</td>\n",
       "      <td>2013-03-01</td>\n",
       "    </tr>\n",
       "    <tr>\n",
       "      <th>1450</th>\n",
       "      <td>1413</td>\n",
       "      <td>Ron Finley</td>\n",
       "      <td>A guerilla gardener in South Central LA</td>\n",
       "      <td>3005687</td>\n",
       "      <td>2013-02-28</td>\n",
       "    </tr>\n",
       "    <tr>\n",
       "      <th>1940</th>\n",
       "      <td>1355</td>\n",
       "      <td>Monica Lewinsky</td>\n",
       "      <td>The price of shame</td>\n",
       "      <td>11443190</td>\n",
       "      <td>2015-03-19</td>\n",
       "    </tr>\n",
       "  </tbody>\n",
       "</table>\n",
       "</div>"
      ],
      "text/plain": [
       "      comments           main_speaker  \\\n",
       "96        6404        Richard Dawkins   \n",
       "0         4553           Ken Robinson   \n",
       "644       3356             Sam Harris   \n",
       "201       2877      Jill Bolte Taylor   \n",
       "1787      2673         David Chalmers   \n",
       "954       2492         Janet Echelman   \n",
       "840       2374        Lesley Hazleton   \n",
       "1346      2290              Amy Cuddy   \n",
       "661       2272        Michael Specter   \n",
       "677       1930            Simon Sinek   \n",
       "837       1927            Brené Brown   \n",
       "1537      1640             Eric X. Li   \n",
       "1030      1627             Steve Jobs   \n",
       "381       1604      Elizabeth Gilbert   \n",
       "1448      1586           Allan Savory   \n",
       "667       1545            James Randi   \n",
       "694       1502  Sharmeen Obaid-Chinoy   \n",
       "1453      1451           Dan Pallotta   \n",
       "1450      1413             Ron Finley   \n",
       "1940      1355        Monica Lewinsky   \n",
       "\n",
       "                                                  title     views  film_date  \n",
       "96                                     Militant atheism   4374792 2002-02-02  \n",
       "0                           Do schools kill creativity?  47227110 2006-02-25  \n",
       "644                  Science can answer moral questions   3433437 2010-02-11  \n",
       "201                                My stroke of insight  21190883 2008-02-27  \n",
       "1787                  How do you explain consciousness?   2162764 2014-03-18  \n",
       "954                        Taking imagination seriously   1832930 2011-03-03  \n",
       "840                                On reading the Koran   1847256 2010-10-10  \n",
       "1346           Your body language may shape who you are  43155405 2012-06-26  \n",
       "661                        The danger of science denial   1838628 2010-02-11  \n",
       "677                    How great leaders inspire action  34309432 2009-09-17  \n",
       "837                          The power of vulnerability  31168150 2010-06-06  \n",
       "1537                    A tale of two political systems   2449736 2013-06-12  \n",
       "1030                         How to live before you die   8744428 2005-06-12  \n",
       "381                        Your elusive creative genius  13155478 2009-02-05  \n",
       "1448  How to fight desertification and reverse clima...   4191678 2013-02-28  \n",
       "667                      Homeopathy, quackery and fraud   2611707 2007-02-02  \n",
       "694                 Inside a school for suicide bombers   1057238 2010-02-10  \n",
       "1453       The way we think about charity is dead wrong   4259204 2013-03-01  \n",
       "1450            A guerilla gardener in South Central LA   3005687 2013-02-28  \n",
       "1940                                 The price of shame  11443190 2015-03-19  "
      ]
     },
     "execution_count": 241,
     "metadata": {},
     "output_type": "execute_result"
    }
   ],
   "source": [
    "most_comments= df[['comments','main_speaker','title','views','film_date']]\n",
    "mc= most_comments.sort_values('comments', ascending=False).head(20) #this sorts the comments in the descending order and gives us most no. of comments on the top.\n",
    "mc"
   ]
  },
  {
   "cell_type": "markdown",
   "metadata": {},
   "source": [
    "We can observe that Richard Dawkin's, Militant atheism has the highest amount of comments- 6404.\n",
    "Richard Dawkin's talk is followed by Robinson's talk with 4553 comments.\n",
    "Only 1 Talk has crossed 6K comments and only 2 talks have crossed 4K comments."
   ]
  },
  {
   "cell_type": "code",
   "execution_count": 242,
   "metadata": {},
   "outputs": [
    {
     "data": {
      "text/plain": [
       "<matplotlib.axes._subplots.AxesSubplot at 0x2d6ba035eb8>"
      ]
     },
     "execution_count": 242,
     "metadata": {},
     "output_type": "execute_result"
    },
    {
     "data": {
      "image/png": "[encoded data removed]",
      "text/plain": [
       "<Figure size 720x432 with 1 Axes>"
      ]
     },
     "metadata": {},
     "output_type": "display_data"
    }
   ],
   "source": [
    "mc['sname'] = mc['main_speaker'].apply(lambda x: x[:3]) #this will take the first 3 initials of the name\n",
    "plt.figure(figsize=(10,6)) #figure size is assigned\n",
    "sns.set_style(\"whitegrid\") #this is the standard style whitegrid for colourful bar plot.\n",
    "sns.barplot(x='sname', y='comments', data=mc) #plotting the bar plot"
   ]
  },
  {
   "cell_type": "markdown",
   "metadata": {},
   "source": [
    "#### Let us create a distribution plot to see the distribution based on the comments."
   ]
  },
  {
   "cell_type": "code",
   "execution_count": 243,
   "metadata": {},
   "outputs": [
    {
     "data": {
      "image/png": "[encoded data removed]",
      "text/plain": [
       "<Figure size 432x288 with 1 Axes>"
      ]
     },
     "metadata": {},
     "output_type": "display_data"
    }
   ],
   "source": [
    "sns.set_color_codes() #this is used to make the bar plot colourful\n",
    "ax= sns.distplot(df[df['comments'] < 500]['comments'],color=\"purple\") #this will give the distribution of the comments"
   ]
  },
  {
   "cell_type": "markdown",
   "metadata": {},
   "source": [
    "* We can see from the distribution plot that many of the talks have fewer than 500 comments. \n",
    "* This clearly says that the mean obtained above has been heavily influenced by outliers. This maybe because there are only 2550 observations."
   ]
  },
  {
   "cell_type": "markdown",
   "metadata": {},
   "source": [
    "#### It is very usefull to know the stats of the number of comments just to see the amount of discussions created on the TED Talks."
   ]
  },
  {
   "cell_type": "code",
   "execution_count": 244,
   "metadata": {},
   "outputs": [
    {
     "data": {
      "text/plain": [
       "count    2550.000000\n",
       "mean      191.562353\n",
       "std       282.315223\n",
       "min         2.000000\n",
       "25%        63.000000\n",
       "50%       118.000000\n",
       "75%       221.750000\n",
       "max      6404.000000\n",
       "Name: comments, dtype: float64"
      ]
     },
     "execution_count": 244,
     "metadata": {},
     "output_type": "execute_result"
    }
   ],
   "source": [
    "stats2 = df['comments'].describe() #df.describe() is used to get the stats of the data.\n",
    "stats2"
   ]
  },
  {
   "cell_type": "markdown",
   "metadata": {},
   "source": [
    "* We observe, there are 191.5 comments on every TED Talk.\n",
    "* Videos create a lot of posituve and negative critism.It can be concluded that the Online community is highly involved in discussions based on the TED Talk videos.\n",
    "* The standard deviation is larger than the mean.\n",
    "* The Minimum number of comments on a TED Talk video is 2.(This can be less if the Talk is posted recently and not views much.)\n",
    "* The Maximum number of comments on a TED Talk video is 6404."
   ]
  },
  {
   "cell_type": "markdown",
   "metadata": {},
   "source": [
    "#### Let us revisualize the relationship of the number views with the number of comments, which looks somewhat linearly related"
   ]
  },
  {
   "cell_type": "code",
   "execution_count": 245,
   "metadata": {},
   "outputs": [
    {
     "data": {
      "text/plain": [
       "<seaborn.axisgrid.JointGrid at 0x2d6c0fa0048>"
      ]
     },
     "execution_count": 245,
     "metadata": {},
     "output_type": "execute_result"
    },
    {
     "data": {
      "image/png": "[encoded data removed]",
      "text/plain": [
       "<Figure size 432x432 with 3 Axes>"
      ]
     },
     "metadata": {},
     "output_type": "display_data"
    }
   ],
   "source": [
    "correlation= sns.jointplot(x='views', y='comments', data=df, color= 'red') #This gives us the scatter plot for views and comments.\n",
    "correlation"
   ]
  },
  {
   "cell_type": "code",
   "execution_count": 246,
   "metadata": {},
   "outputs": [
    {
     "data": {
      "text/html": [
       "<div>\n",
       "<style scoped>\n",
       "    .dataframe tbody tr th:only-of-type {\n",
       "        vertical-align: middle;\n",
       "    }\n",
       "\n",
       "    .dataframe tbody tr th {\n",
       "        vertical-align: top;\n",
       "    }\n",
       "\n",
       "    .dataframe thead th {\n",
       "        text-align: right;\n",
       "    }\n",
       "</style>\n",
       "<table border=\"1\" class=\"dataframe\">\n",
       "  <thead>\n",
       "    <tr style=\"text-align: right;\">\n",
       "      <th></th>\n",
       "      <th>views</th>\n",
       "      <th>comments</th>\n",
       "    </tr>\n",
       "  </thead>\n",
       "  <tbody>\n",
       "    <tr>\n",
       "      <th>views</th>\n",
       "      <td>1.000000</td>\n",
       "      <td>0.530939</td>\n",
       "    </tr>\n",
       "    <tr>\n",
       "      <th>comments</th>\n",
       "      <td>0.530939</td>\n",
       "      <td>1.000000</td>\n",
       "    </tr>\n",
       "  </tbody>\n",
       "</table>\n",
       "</div>"
      ],
      "text/plain": [
       "             views  comments\n",
       "views     1.000000  0.530939\n",
       "comments  0.530939  1.000000"
      ]
     },
     "execution_count": 246,
     "metadata": {},
     "output_type": "execute_result"
    }
   ],
   "source": [
    "correlation= df[['views', 'comments']].corr() #this .corr() gives us the correlation between views and comments.\n",
    "correlation"
   ]
  },
  {
   "cell_type": "markdown",
   "metadata": {},
   "source": [
    "* As the scatterplot and the correlation matrix show, the pearson coefficient is a bit more than 0.5.\n",
    "* This shows that there is a good correlation between the views and comments."
   ]
  },
  {
   "cell_type": "markdown",
   "metadata": {},
   "source": [
    "### Analysing outliers using boxplot"
   ]
  },
  {
   "cell_type": "code",
   "execution_count": 247,
   "metadata": {},
   "outputs": [
    {
     "data": {
      "text/plain": [
       "393.0999999999999"
      ]
     },
     "execution_count": 247,
     "metadata": {},
     "output_type": "execute_result"
    },
    {
     "data": {
      "image/png": "[encoded data removed]",
      "text/plain": [
       "<Figure size 432x288 with 1 Axes>"
      ]
     },
     "metadata": {},
     "output_type": "display_data"
    }
   ],
   "source": [
    "#Boxplot for comments distribution\n",
    "df.boxplot(column = \"comments\")\n",
    "df[\"comments\"].quantile(0.9)"
   ]
  },
  {
   "cell_type": "code",
   "execution_count": 248,
   "metadata": {},
   "outputs": [
    {
     "data": {
      "text/plain": [
       "(255, 18)"
      ]
     },
     "execution_count": 248,
     "metadata": {},
     "output_type": "execute_result"
    },
    {
     "data": {
      "image/png": "[encoded data removed]",
      "text/plain": [
       "<Figure size 432x288 with 1 Axes>"
      ]
     },
     "metadata": {},
     "output_type": "display_data"
    }
   ],
   "source": [
    "#Boxplot for views distribution\n",
    "df.boxplot(column = \"views\")\n",
    "df[\"views\"].quantile(0.9)\n",
    "df[df[\"views\"] > 3051912].shape"
   ]
  },
  {
   "cell_type": "code",
   "execution_count": 249,
   "metadata": {},
   "outputs": [
    {
     "data": {
      "text/plain": [
       "Series([], Name: main_speaker, dtype: object)"
      ]
     },
     "execution_count": 249,
     "metadata": {},
     "output_type": "execute_result"
    },
    {
     "data": {
      "image/png": "[encoded data removed]",
      "text/plain": [
       "<Figure size 432x288 with 1 Axes>"
      ]
     },
     "metadata": {},
     "output_type": "display_data"
    }
   ],
   "source": [
    "df.boxplot(column = \"duration\")\n",
    "# ted[\"duration\"].quantile(0.9)\n",
    "# ted[\"duration\"].max()\n",
    "df[df[\"duration\"] == 5256].title\n",
    "df[df[\"duration\"] == 5256].main_speaker"
   ]
  },
  {
   "cell_type": "markdown",
   "metadata": {},
   "source": [
    "### Principal Component Analysis:"
   ]
  },
  {
   "cell_type": "markdown",
   "metadata": {},
   "source": [
    "We tried applying dimensionality reduction to our model, to check if there are any columns that can be combined and reduced to one."
   ]
  },
  {
   "cell_type": "code",
   "execution_count": 250,
   "metadata": {},
   "outputs": [],
   "source": [
    "# Import the kmeans clustering model.\n",
    "from sklearn.cluster import KMeans\n",
    "\n",
    "# Initialize the model with 2 parameters -- number of clusters and random state.\n",
    "kmeans_model = KMeans(n_clusters=5, random_state=1)\n",
    "# Get only the numeric columns from games.\n",
    "good_columns = df._get_numeric_data()\n",
    "# Fit the model using the good columns.\n",
    "kmeans_model.fit(good_columns)\n",
    "# Get the cluster assignments.\n",
    "labels = kmeans_model.labels_"
   ]
  },
  {
   "cell_type": "code",
   "execution_count": 251,
   "metadata": {},
   "outputs": [
    {
     "data": {
      "image/png": "[encoded data removed]",
      "text/plain": [
       "<Figure size 432x288 with 1 Axes>"
      ]
     },
     "metadata": {},
     "output_type": "display_data"
    }
   ],
   "source": [
    "#Trying PCA\n",
    "from sklearn.decomposition import PCA\n",
    "# Create a PCA model.\n",
    "pca_2 = PCA(2)\n",
    "# Fit the PCA model on the numeric columns from earlier.\n",
    "plot_columns = pca_2.fit_transform(good_columns)\n",
    "# Make a scatter plot of each game, shaded according to cluster assignment.\n",
    "plt.scatter(x=plot_columns[:,0], y=plot_columns[:,1], c=labels)\n",
    "# Show the plot.\n",
    "plt.show()"
   ]
  },
  {
   "cell_type": "markdown",
   "metadata": {},
   "source": [
    "From above plot of PCA, we can see that there is no specific cluster containing specific amount of variance.\n",
    "Hence applying PCA will not help in this case.\n",
    "And this further confirms that variables are not very correlated. So lets proceed with linear regression on our original variables in our dataset."
   ]
  },
  {
   "cell_type": "markdown",
   "metadata": {},
   "source": [
    "###  Linear Regression"
   ]
  },
  {
   "cell_type": "markdown",
   "metadata": {},
   "source": [
    "From our dataset, to predict the number of views a video will get, we have several independent variables.\n",
    "Here, duration, comments and languages are our independent variables, and views is our dependent variable.\n",
    "Below we have created columns and target.\n",
    "Columns contain our independent variables and traget contains our dependent variable."
   ]
  },
  {
   "cell_type": "code",
   "execution_count": 252,
   "metadata": {},
   "outputs": [
    {
     "data": {
      "text/plain": [
       "<matplotlib.axes._subplots.AxesSubplot at 0x2d6c4cd1e48>"
      ]
     },
     "execution_count": 252,
     "metadata": {},
     "output_type": "execute_result"
    },
    {
     "data": {
      "image/png": "[encoded data removed]",
      "text/plain": [
       "<Figure size 1152x576 with 1 Axes>"
      ]
     },
     "metadata": {},
     "output_type": "display_data"
    }
   ],
   "source": [
    "# visualize the relationship between the comments and the views using scatterplots\n",
    "df.plot(kind='scatter', x='comments', y='views', figsize=(16, 8))"
   ]
  },
  {
   "cell_type": "code",
   "execution_count": 253,
   "metadata": {},
   "outputs": [],
   "source": [
    "# Get all the columns from the dataframe.\n",
    "columns = df.columns.tolist()\n",
    "# Filter the columns to remove ones we don't want.\n",
    "columns = [\"duration\",\"comments\",\"languages\"]\n",
    "\n",
    "# Store the variable we'll be predicting on.\n",
    "target = \"views\""
   ]
  },
  {
   "cell_type": "markdown",
   "metadata": {},
   "source": [
    "Now, we have created the two sub datasets. One with training data and one with test data.\n",
    "Training data for our model is 80% of our datset.\n",
    "Remaining data is used as test data."
   ]
  },
  {
   "cell_type": "code",
   "execution_count": 254,
   "metadata": {},
   "outputs": [
    {
     "data": {
      "text/plain": [
       "Intercept    798186.590794\n",
       "comments       4698.788029\n",
       "dtype: float64"
      ]
     },
     "execution_count": 254,
     "metadata": {},
     "output_type": "execute_result"
    }
   ],
   "source": [
    "# this is the standard import if you're using \"formula notation\" (similar to R)\n",
    "import statsmodels.formula.api as smf\n",
    "\n",
    "# create a fitted model in one line\n",
    "lm = smf.ols(formula='views ~ comments', data=df).fit()\n",
    "\n",
    "# print the coefficients\n",
    "lm.params"
   ]
  },
  {
   "cell_type": "markdown",
   "metadata": {},
   "source": [
    "### Interpreting the above result:\n",
    "* A \"unit\" increase in comments spending is associated with a 4698.788029 \"unit\" increase in views.\n",
    "\n",
    "Note that if an increase in comments  was associated with a decrease in views, correlation would be negative"
   ]
  },
  {
   "cell_type": "code",
   "execution_count": 255,
   "metadata": {},
   "outputs": [
    {
     "data": {
      "text/html": [
       "<div>\n",
       "<style scoped>\n",
       "    .dataframe tbody tr th:only-of-type {\n",
       "        vertical-align: middle;\n",
       "    }\n",
       "\n",
       "    .dataframe tbody tr th {\n",
       "        vertical-align: top;\n",
       "    }\n",
       "\n",
       "    .dataframe thead th {\n",
       "        text-align: right;\n",
       "    }\n",
       "</style>\n",
       "<table border=\"1\" class=\"dataframe\">\n",
       "  <thead>\n",
       "    <tr style=\"text-align: right;\">\n",
       "      <th></th>\n",
       "      <th>comments</th>\n",
       "    </tr>\n",
       "  </thead>\n",
       "  <tbody>\n",
       "    <tr>\n",
       "      <th>0</th>\n",
       "      <td>46</td>\n",
       "    </tr>\n",
       "  </tbody>\n",
       "</table>\n",
       "</div>"
      ],
      "text/plain": [
       "   comments\n",
       "0        46"
      ]
     },
     "execution_count": 255,
     "metadata": {},
     "output_type": "execute_result"
    }
   ],
   "source": [
    "# you have to create a DataFrame since the Statsmodels formula interface expects it\n",
    "X_new = pd.DataFrame({'comments': [46]})\n",
    "X_new.head()"
   ]
  },
  {
   "cell_type": "code",
   "execution_count": 256,
   "metadata": {},
   "outputs": [
    {
     "data": {
      "text/plain": [
       "0    1.014331e+06\n",
       "dtype: float64"
      ]
     },
     "execution_count": 256,
     "metadata": {},
     "output_type": "execute_result"
    }
   ],
   "source": [
    "# use the model to make predictions on a new value\n",
    "lm.predict(X_new)"
   ]
  },
  {
   "cell_type": "code",
   "execution_count": 257,
   "metadata": {},
   "outputs": [
    {
     "data": {
      "text/plain": [
       "845174.471084"
      ]
     },
     "execution_count": 257,
     "metadata": {},
     "output_type": "execute_result"
    }
   ],
   "source": [
    "# manually calculate the prediction\n",
    "798186.590794 + 4698.788029*10"
   ]
  },
  {
   "cell_type": "markdown",
   "metadata": {},
   "source": [
    "Thus, the model we got gives the result of views predicted manually and from the model as same."
   ]
  },
  {
   "cell_type": "code",
   "execution_count": 258,
   "metadata": {},
   "outputs": [
    {
     "data": {
      "text/plain": [
       "0.2818959038175063"
      ]
     },
     "execution_count": 258,
     "metadata": {},
     "output_type": "execute_result"
    }
   ],
   "source": [
    "lm.rsquared"
   ]
  },
  {
   "cell_type": "markdown",
   "metadata": {},
   "source": [
    "### Multiple Regression Model\n",
    "#### Now lets create another model with other variables as well like, duration and languages."
   ]
  },
  {
   "cell_type": "markdown",
   "metadata": {},
   "source": [
    "Here we have taken training data as 60 % and rest as test data."
   ]
  },
  {
   "cell_type": "code",
   "execution_count": 259,
   "metadata": {},
   "outputs": [],
   "source": [
    "#Defining X and Y\n",
    "X = df[[\"duration\",\"comments\",\"languages\"]]\n",
    "Y = df['views']"
   ]
  },
  {
   "cell_type": "code",
   "execution_count": 260,
   "metadata": {},
   "outputs": [],
   "source": [
    "#Splitting the dataset into test and train sets\n",
    "from sklearn.model_selection import train_test_split\n",
    "\n",
    "x_train, x_test, y_train, y_test = train_test_split(X, Y, test_size=0.4)"
   ]
  },
  {
   "cell_type": "code",
   "execution_count": 261,
   "metadata": {},
   "outputs": [],
   "source": [
    "import statsmodels.api as sm\n",
    "model = sm.OLS(y_train,x_train)\n",
    "result = model.fit()"
   ]
  },
  {
   "cell_type": "code",
   "execution_count": 262,
   "metadata": {},
   "outputs": [
    {
     "data": {
      "text/plain": [
       "duration     -9084.601912\n",
       "comments      4852.773770\n",
       "languages    34489.252752\n",
       "dtype: float64"
      ]
     },
     "execution_count": 262,
     "metadata": {},
     "output_type": "execute_result"
    }
   ],
   "source": [
    "#Coefficients\n",
    "result.params"
   ]
  },
  {
   "cell_type": "code",
   "execution_count": 263,
   "metadata": {},
   "outputs": [
    {
     "data": {
      "text/plain": [
       "1097    2.217402e+06\n",
       "57      1.096586e+06\n",
       "1455    2.636184e+06\n",
       "184     1.347152e+06\n",
       "1570    2.188917e+06\n",
       "1207    9.307534e+05\n",
       "1814    1.682888e+06\n",
       "1451    2.077809e+06\n",
       "1244    9.436965e+05\n",
       "771     2.719039e+06\n",
       "970     2.247356e+06\n",
       "538     1.219192e+06\n",
       "169     1.940624e+06\n",
       "1554    2.143411e+06\n",
       "841     1.854145e+06\n",
       "845     2.452168e+06\n",
       "665     6.990121e+05\n",
       "1012    1.969948e+06\n",
       "205     8.680040e+05\n",
       "1847    1.632176e+06\n",
       "2471    7.226618e+05\n",
       "1887    1.332550e+06\n",
       "1685    1.130338e+06\n",
       "1338    2.030197e+06\n",
       "1836    1.994009e+06\n",
       "1800    1.379538e+06\n",
       "1535    1.093338e+06\n",
       "1289    1.317917e+06\n",
       "1015    1.696057e+06\n",
       "296     1.051679e+06\n",
       "            ...     \n",
       "202     2.934947e+05\n",
       "1538    1.230106e+06\n",
       "16      2.364965e+06\n",
       "273     2.207916e+06\n",
       "1626    1.340293e+06\n",
       "1107    1.539427e+06\n",
       "1868    1.685649e+06\n",
       "2427    6.868803e+05\n",
       "2041    1.535885e+06\n",
       "1483    2.826676e+06\n",
       "1753    9.806356e+05\n",
       "211     1.396047e+06\n",
       "313     8.198081e+05\n",
       "1221    1.842409e+06\n",
       "709     2.237056e+06\n",
       "1639    2.391481e+06\n",
       "2214    6.966461e+05\n",
       "1908    7.936797e+05\n",
       "1552    1.472138e+06\n",
       "1400    1.585208e+06\n",
       "2110    1.580404e+06\n",
       "1872    1.330076e+06\n",
       "834     1.550707e+06\n",
       "426     1.191935e+06\n",
       "1681    8.760500e+05\n",
       "1091    1.939813e+06\n",
       "69      1.364030e+06\n",
       "1044    1.023498e+06\n",
       "2231    1.243618e+06\n",
       "614     7.008776e+06\n",
       "Length: 1020, dtype: float64"
      ]
     },
     "execution_count": 263,
     "metadata": {},
     "output_type": "execute_result"
    }
   ],
   "source": [
    "predictions = result.predict(x_test)\n",
    "predictions"
   ]
  },
  {
   "cell_type": "code",
   "execution_count": 264,
   "metadata": {},
   "outputs": [
    {
     "data": {
      "text/html": [
       "<table class=\"simpletable\">\n",
       "<caption>OLS Regression Results</caption>\n",
       "<tr>\n",
       "  <th>Dep. Variable:</th>          <td>views</td>      <th>  R-squared (uncentered):</th>      <td>   0.590</td> \n",
       "</tr>\n",
       "<tr>\n",
       "  <th>Model:</th>                   <td>OLS</td>       <th>  Adj. R-squared (uncentered):</th> <td>   0.589</td> \n",
       "</tr>\n",
       "<tr>\n",
       "  <th>Method:</th>             <td>Least Squares</td>  <th>  F-statistic:       </th>          <td>   732.7</td> \n",
       "</tr>\n",
       "<tr>\n",
       "  <th>Date:</th>             <td>Fri, 13 Dec 2019</td> <th>  Prob (F-statistic):</th>          <td>4.70e-295</td>\n",
       "</tr>\n",
       "<tr>\n",
       "  <th>Time:</th>                 <td>19:18:36</td>     <th>  Log-Likelihood:    </th>          <td> -24186.</td> \n",
       "</tr>\n",
       "<tr>\n",
       "  <th>No. Observations:</th>      <td>  1530</td>      <th>  AIC:               </th>          <td>4.838e+04</td>\n",
       "</tr>\n",
       "<tr>\n",
       "  <th>Df Residuals:</th>          <td>  1527</td>      <th>  BIC:               </th>          <td>4.839e+04</td>\n",
       "</tr>\n",
       "<tr>\n",
       "  <th>Df Model:</th>              <td>     3</td>      <th>                     </th>              <td> </td>    \n",
       "</tr>\n",
       "<tr>\n",
       "  <th>Covariance Type:</th>      <td>nonrobust</td>    <th>                     </th>              <td> </td>    \n",
       "</tr>\n",
       "</table>\n",
       "<table class=\"simpletable\">\n",
       "<tr>\n",
       "      <td></td>         <th>coef</th>     <th>std err</th>      <th>t</th>      <th>P>|t|</th>  <th>[0.025</th>    <th>0.975]</th>  \n",
       "</tr>\n",
       "<tr>\n",
       "  <th>duration</th>  <td>-9084.6019</td> <td> 5497.308</td> <td>   -1.653</td> <td> 0.099</td> <td>-1.99e+04</td> <td> 1698.471</td>\n",
       "</tr>\n",
       "<tr>\n",
       "  <th>comments</th>  <td> 4852.7738</td> <td>  211.450</td> <td>   22.950</td> <td> 0.000</td> <td> 4438.011</td> <td> 5267.537</td>\n",
       "</tr>\n",
       "<tr>\n",
       "  <th>languages</th> <td> 3.449e+04</td> <td> 2980.487</td> <td>   11.572</td> <td> 0.000</td> <td> 2.86e+04</td> <td> 4.03e+04</td>\n",
       "</tr>\n",
       "</table>\n",
       "<table class=\"simpletable\">\n",
       "<tr>\n",
       "  <th>Omnibus:</th>       <td>1510.039</td> <th>  Durbin-Watson:     </th>  <td>   1.995</td> \n",
       "</tr>\n",
       "<tr>\n",
       "  <th>Prob(Omnibus):</th>  <td> 0.000</td>  <th>  Jarque-Bera (JB):  </th> <td>156975.241</td>\n",
       "</tr>\n",
       "<tr>\n",
       "  <th>Skew:</th>           <td> 4.384</td>  <th>  Prob(JB):          </th>  <td>    0.00</td> \n",
       "</tr>\n",
       "<tr>\n",
       "  <th>Kurtosis:</th>       <td>51.841</td>  <th>  Cond. No.          </th>  <td>    38.6</td> \n",
       "</tr>\n",
       "</table><br/><br/>Warnings:<br/>[1] Standard Errors assume that the covariance matrix of the errors is correctly specified."
      ],
      "text/plain": [
       "<class 'statsmodels.iolib.summary.Summary'>\n",
       "\"\"\"\n",
       "                                 OLS Regression Results                                \n",
       "=======================================================================================\n",
       "Dep. Variable:                  views   R-squared (uncentered):                   0.590\n",
       "Model:                            OLS   Adj. R-squared (uncentered):              0.589\n",
       "Method:                 Least Squares   F-statistic:                              732.7\n",
       "Date:                Fri, 13 Dec 2019   Prob (F-statistic):                   4.70e-295\n",
       "Time:                        19:18:36   Log-Likelihood:                         -24186.\n",
       "No. Observations:                1530   AIC:                                  4.838e+04\n",
       "Df Residuals:                    1527   BIC:                                  4.839e+04\n",
       "Df Model:                           3                                                  \n",
       "Covariance Type:            nonrobust                                                  \n",
       "==============================================================================\n",
       "                 coef    std err          t      P>|t|      [0.025      0.975]\n",
       "------------------------------------------------------------------------------\n",
       "duration   -9084.6019   5497.308     -1.653      0.099   -1.99e+04    1698.471\n",
       "comments    4852.7738    211.450     22.950      0.000    4438.011    5267.537\n",
       "languages   3.449e+04   2980.487     11.572      0.000    2.86e+04    4.03e+04\n",
       "==============================================================================\n",
       "Omnibus:                     1510.039   Durbin-Watson:                   1.995\n",
       "Prob(Omnibus):                  0.000   Jarque-Bera (JB):           156975.241\n",
       "Skew:                           4.384   Prob(JB):                         0.00\n",
       "Kurtosis:                      51.841   Cond. No.                         38.6\n",
       "==============================================================================\n",
       "\n",
       "Warnings:\n",
       "[1] Standard Errors assume that the covariance matrix of the errors is correctly specified.\n",
       "\"\"\""
      ]
     },
     "execution_count": 264,
     "metadata": {},
     "output_type": "execute_result"
    }
   ],
   "source": [
    "result.summary()"
   ]
  },
  {
   "attachments": {},
   "cell_type": "markdown",
   "metadata": {},
   "source": [
    "## Conclusion :\n",
    "1. p-value ≤ 0.05 indicates strong evidence against the null hypothesis, so you reject the null hypothesis.(i.e., there is some significant difference between the variables considered)\n",
    "2. Comments and Languages are positively associated with the Views. Whereas, Duration is negatively associated with the Views.\n",
    "3. R-squared score is 0.59, which means that this model explains 59% of the total variance.\n",
    "4. We could see from our linear regression model that comments, languages and duration do contribute to the change in number of views for a video. "
   ]
  }
 ],
 "metadata": {
  "kernelspec": {
   "display_name": "Python 3",
   "language": "python",
   "name": "python3"
  },
  "language_info": {
   "codemirror_mode": {
    "name": "ipython",
    "version": 3
   },
   "file_extension": ".py",
   "mimetype": "text/x-python",
   "name": "python",
   "nbconvert_exporter": "python",
   "pygments_lexer": "ipython3",
   "version": "3.7.3"
  }
 },
 "nbformat": 4,
 "nbformat_minor": 2
}
